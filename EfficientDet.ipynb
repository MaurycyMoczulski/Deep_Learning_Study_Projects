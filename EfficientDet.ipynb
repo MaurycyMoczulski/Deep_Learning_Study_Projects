{
  "cells": [
    {
      "cell_type": "markdown",
      "metadata": {
        "id": "kXi9epNgrypl"
      },
      "source": [
        "# Quick Overview"
      ]
    },
    {
      "cell_type": "markdown",
      "metadata": {
        "id": "E2ZTmPFjrypm"
      },
      "source": [
        "In this task, you will implement a simple variant of [EfficientDet](https://arxiv.org/abs/1911.09070) for the segmentation task on [Oxford-IIIT Pet Dataset](https://www.robots.ox.ac.uk/~vgg/data/pets/). \n",
        "It is a simplified task where the pet can be classified as foreground.\n",
        "\n",
        "The dataset consists of RGB images of pets accompanied by a segmentation mask. The mask is an array of integers, that has entries equal to:\n",
        "* 1 - for the pixels of the image that belong to the pet\n",
        "* 2 - for the background\n",
        "* 3 - for the ambiguous parts (like pet boundary and accessories) - we will call this an outline of a pet\n",
        "\n",
        "The task is divided into four parts that contribute to your total score as follows:\n",
        "* dataset preparation - 0.5p\n",
        "* data visualization - 0.5p\n",
        "* architecture implementation - 5p\n",
        "* evaluation metrics - 1p\n",
        "* training loop - 1p\n",
        "* experiments - 2p\n",
        "\n",
        "The first two subtasks consider dataset preparation (applying appropriate transforms) and data visualization.\n",
        "\n",
        "In the next one, you are tasked with finishing the implementation of a model that should utilize:\n",
        "* [EfficientNet](https://arxiv.org/pdf/1905.11946.pdf) backbone\n",
        "* [BiFPN](https://arxiv.org/abs/1911.09070)-like module \n",
        "* Fully convolutional head for predicting whether a pixel belongs to the pet, the background, or the pet outline\n",
        "\n",
        "Given a batch of input images of shape `(BATCH, 3, IMAGE_HEIGHT, IMAGE_WIDTH)` the model should produce a tensor of shape `(BATCH, 3, PREDICTION_HEIGHT, PREDICTION_WIDTH)` consisting of logits used later for determining whether the point belongs to the pet, the background, or the pet outline.\n",
        "\n",
        "Next, you will implement IOU and accuracy metrics, and finish the training loop (the evaluation function is already provided).\n",
        "\n",
        "In the end, you will check how much the model benefits from the use of the feature pyramid and check the effects of the train set augmentation in a low data regime."
      ]
    },
    {
      "cell_type": "markdown",
      "metadata": {
        "id": "shzwmYWtrypn"
      },
      "source": [
        "# Intro"
      ]
    },
    {
      "cell_type": "markdown",
      "metadata": {
        "id": "cwjBCDE1rypn"
      },
      "source": [
        "## Libraries"
      ]
    },
    {
      "cell_type": "code",
      "execution_count": 1,
      "metadata": {
        "id": "Rea0FqlArypn"
      },
      "outputs": [],
      "source": [
        "import torch\n",
        "import torchvision\n",
        "import matplotlib.pyplot as plt\n",
        "import numpy as np"
      ]
    },
    {
      "cell_type": "markdown",
      "metadata": {
        "id": "496k5XI0rypo"
      },
      "source": [
        "## Dataset Preparation (0.5p)"
      ]
    },
    {
      "cell_type": "markdown",
      "metadata": {
        "id": "ua_fHq-Srypo"
      },
      "source": [
        "Read this section and provide input and target transforms. \n",
        "Transforms should pass the checks presented at the end of the section.\n",
        "\n",
        "Input (Image) transforms should consist of:\n",
        "* resize to ``(IMAGE_HEIGHT, IMAGE_WIDTH)``\n",
        "* normalization with parameters matching ImageNet (provided below)\n",
        "\n",
        "Target (Mask) transforms should consist of:\n",
        "* resize to ``(PREDICTION_HEIGHT, PREDICTION_WIDTH)`` that maintains the domain (i.e. if each element of the mask was from the set {1, 2, 3} then so does each element after the resize)\n",
        "* subtraction of 1 from each element of the target (to make 0 correspond to the pet, 1 to the background, and 2 to the outline)\n",
        "* conversion to `torch.long`\n",
        "\n",
        "Both inputs and targets should be converted to tensors.\n",
        "\n",
        "Each image should have shape `(3, IMAGE_HEIGHT, IMAGE_WIDTH)`, \n",
        "whereas each target `(PREDICTION_HEIGHT, PREDICTION_WIDTH)`.\n",
        "\n",
        "HINT:\n",
        "* `torchvision.transforms.ToTensor()`\n",
        "* `torchvision.transforms.PILToTensor()`\n",
        "* `torchvision.transforms.Normalize(...)`\n",
        "* `torchvision.transforms.Resize(..., interpolation=...)`\n",
        "* `torchvision.transforms.Lambda(...)`"
      ]
    },
    {
      "cell_type": "code",
      "execution_count": 2,
      "metadata": {
        "id": "7PBPLSKGrypo"
      },
      "outputs": [],
      "source": [
        "# We downscale images to\n",
        "IMAGE_HEIGHT = 128\n",
        "IMAGE_WIDTH = 128\n",
        "\n",
        "# We will make predictions in a smaller scale\n",
        "PREDICTION_HEIGHT = 64\n",
        "PREDICTION_WIDTH = 64\n",
        "\n",
        "\n",
        "# We want to match data distribution\n",
        "# of the backbone that we will introduce later\n",
        "image_net_mean = [0.485, 0.456, 0.406]\n",
        "image_net_std = [0.229, 0.224, 0.225]\n",
        "\n",
        "input_transforms = torchvision.transforms.Compose(\n",
        "    [\n",
        "        ## TODO {\n",
        "        torchvision.transforms.ToTensor(),\n",
        "        torchvision.transforms.Resize((IMAGE_HEIGHT, IMAGE_WIDTH)),\n",
        "        torchvision.transforms.Normalize(image_net_mean, image_net_std)\n",
        "        ## }\n",
        "    ]\n",
        ")\n",
        "\n",
        "target_transforms = torchvision.transforms.Compose(\n",
        "    [\n",
        "        ## TODO {\n",
        "        torchvision.transforms.PILToTensor(),\n",
        "        torchvision.transforms.Resize((PREDICTION_HEIGHT, PREDICTION_WIDTH), interpolation = torchvision.transforms.InterpolationMode.NEAREST),\n",
        "        torchvision.transforms.Lambda(lambda y: (y - 1).long().squeeze())\n",
        "        #torchvision.transforms.ConvertImageDtype(torch.long) ?\n",
        "        ## }\n",
        "    ]\n",
        ")"
      ]
    },
    {
      "cell_type": "code",
      "execution_count": 3,
      "metadata": {
        "id": "DvaRcBx7rypp",
        "colab": {
          "base_uri": "https://localhost:8080/",
          "height": 150,
          "referenced_widgets": [
            "9316de83f52e409e94c271ca37985c48",
            "caac2325e85747d087de3d3e9257bc7d",
            "dff8377e28c14a8abc58ffef07fa569d",
            "54b08e4270824a5f83bd2f2e1ee8c3f8",
            "5d0e090adce647a7af04ffbaf8b72f35",
            "c7d884a8d32e47878b930d890af7b284",
            "6e8996d29f97467d8913297d21765e28",
            "3a6af9d3ee794349b448fee0f5c6c3a4",
            "47c9337aef7b41848ad98086121eb447",
            "223ade7fe19844f8906611ac0893eeae",
            "fee93fa4c6b243d4bbb0393e07154f4e",
            "1efec5ea3ccd45ca9081b08ae3c9000e",
            "cd0313c064bc4f6c9bf76e6a80bb8b3c",
            "b0be6715fe484708b8affce14e63cb64",
            "7b18dafe853d437d81c5560d5d709e37",
            "da9a089dd07b490192351f52677d789b",
            "de74539051b649dcb46488686d40e23d",
            "d3fbbf496ded4bddb4090095c506c298",
            "bd8fdfd82949469e9a0083c63ce36f33",
            "da582044d2cc4a73b979ec24398cbb97",
            "25ffc3d5d4ab4fca8390e471e616339b",
            "cd3b9c87e34d4102898b8345b661be5b"
          ]
        },
        "outputId": "7e78b248-6ecf-4aca-bf5a-315c3de71216"
      },
      "outputs": [
        {
          "output_type": "stream",
          "name": "stdout",
          "text": [
            "Downloading https://thor.robots.ox.ac.uk/datasets/pets/images.tar.gz to /root/torch_datasets/oxford/oxford-iiit-pet/images.tar.gz\n"
          ]
        },
        {
          "output_type": "display_data",
          "data": {
            "text/plain": [
              "  0%|          | 0/791918971 [00:00<?, ?it/s]"
            ],
            "application/vnd.jupyter.widget-view+json": {
              "version_major": 2,
              "version_minor": 0,
              "model_id": "9316de83f52e409e94c271ca37985c48"
            }
          },
          "metadata": {}
        },
        {
          "output_type": "stream",
          "name": "stdout",
          "text": [
            "Extracting /root/torch_datasets/oxford/oxford-iiit-pet/images.tar.gz to /root/torch_datasets/oxford/oxford-iiit-pet\n",
            "Downloading https://thor.robots.ox.ac.uk/datasets/pets/annotations.tar.gz to /root/torch_datasets/oxford/oxford-iiit-pet/annotations.tar.gz\n"
          ]
        },
        {
          "output_type": "display_data",
          "data": {
            "text/plain": [
              "  0%|          | 0/19173078 [00:00<?, ?it/s]"
            ],
            "application/vnd.jupyter.widget-view+json": {
              "version_major": 2,
              "version_minor": 0,
              "model_id": "1efec5ea3ccd45ca9081b08ae3c9000e"
            }
          },
          "metadata": {}
        },
        {
          "output_type": "stream",
          "name": "stdout",
          "text": [
            "Extracting /root/torch_datasets/oxford/oxford-iiit-pet/annotations.tar.gz to /root/torch_datasets/oxford/oxford-iiit-pet\n"
          ]
        }
      ],
      "source": [
        "# Directory for dataset storage\n",
        "DATA_PATH = \"~/torch_datasets/oxford\"\n",
        "\n",
        "TRAIN_DATASET = torchvision.datasets.OxfordIIITPet(\n",
        "    root=DATA_PATH,\n",
        "    split=\"trainval\",\n",
        "    download=True,\n",
        "    target_types=\"segmentation\",\n",
        "    transform=input_transforms,\n",
        "    target_transform=target_transforms,\n",
        ")\n",
        "TEST_DATASET = torchvision.datasets.OxfordIIITPet(\n",
        "    root=DATA_PATH,\n",
        "    split=\"test\",\n",
        "    download=True,\n",
        "    target_types=\"segmentation\",\n",
        "    transform=input_transforms,\n",
        "    target_transform=target_transforms,\n",
        ")"
      ]
    },
    {
      "cell_type": "code",
      "execution_count": 4,
      "metadata": {
        "id": "oYTmOLECrypp"
      },
      "outputs": [],
      "source": [
        "BATCH_SIZE = 16\n",
        "TRAIN_LOADER = torch.utils.data.DataLoader(\n",
        "    TRAIN_DATASET, shuffle=True, batch_size=BATCH_SIZE\n",
        ")\n",
        "TEST_LOADER = torch.utils.data.DataLoader(\n",
        "    TEST_DATASET, shuffle=True, batch_size=BATCH_SIZE\n",
        ")"
      ]
    },
    {
      "cell_type": "markdown",
      "metadata": {
        "id": "SFsH6vNurypp"
      },
      "source": [
        "Let's ensure that shapes and types match our expectations."
      ]
    },
    {
      "cell_type": "code",
      "execution_count": 5,
      "metadata": {
        "id": "fFzOlj2qrypp"
      },
      "outputs": [],
      "source": [
        "samples = next(iter(TRAIN_LOADER))\n",
        "images, masks = samples\n",
        "\n",
        "assert len(images.shape) == 4\n",
        "assert images.shape[0] == BATCH_SIZE\n",
        "assert images.shape[1] == 3\n",
        "assert images.shape[2] == IMAGE_HEIGHT\n",
        "assert images.shape[3] == IMAGE_WIDTH\n",
        "assert images.dtype == torch.float32\n",
        "\n",
        "assert len(masks.shape) == 3\n",
        "assert masks.shape[0] == BATCH_SIZE\n",
        "assert masks.shape[1] == PREDICTION_HEIGHT\n",
        "assert masks.shape[2] == PREDICTION_WIDTH\n",
        "assert masks.dtype == torch.long\n",
        "assert (masks <= 2).all()\n",
        "assert (masks >= 0).all()"
      ]
    },
    {
      "cell_type": "markdown",
      "metadata": {
        "id": "kPR-A47Qrypp"
      },
      "source": [
        "## Data Visualization (0.5p)\n",
        "Finish the implementation of `visualize_data` according to its docstring."
      ]
    },
    {
      "cell_type": "code",
      "execution_count": 6,
      "metadata": {
        "id": "PCEXj-9Jrypp"
      },
      "outputs": [],
      "source": [
        "def get_pet_mask(mask):\n",
        "    \"\"\"\n",
        "    Given a mask from Oxford-IIIT Pet Dataset after subtraction of 1\n",
        "    returns the array that encodes parts belonging to the pet.\n",
        "    \"\"\"\n",
        "    return (mask == 0).type(torch.long)\n",
        "\n",
        "\n",
        "def get_pet_background(mask):\n",
        "    \"\"\"\n",
        "    Given a mask from Oxford-IIIT Pet Dataset after subtraction of 1\n",
        "    returns the array that encodes parts belonging to the background.\n",
        "    \"\"\"\n",
        "    return (mask == 1).type(torch.long)\n",
        "\n",
        "\n",
        "def get_pet_outline(mask):\n",
        "    \"\"\"\n",
        "    Given a mask from Oxford-IIIT Pet Dataset after subtraction of 1\n",
        "    returns the array that encodes parts belonging to the pet outline.\n",
        "    \"\"\"\n",
        "    return (mask == 2).type(torch.long)"
      ]
    },
    {
      "cell_type": "code",
      "execution_count": 7,
      "metadata": {
        "id": "-UTHXDn_rypq"
      },
      "outputs": [],
      "source": [
        "def visualize_data(images, masks):\n",
        "    \"\"\"\n",
        "    Args:\n",
        "        images: tensor of shape (BATCH, 3, H, W)\n",
        "        masks: tensor of shape (BATCH, H, W)\n",
        "    Draws a grid of images of size BATCH x 4.\n",
        "    I'th row consists of the image, pet mask, pet outline, and background mask.\n",
        "    \"\"\"\n",
        "    assert len(images.shape) == 4\n",
        "    assert len(masks.shape) == 3\n",
        "    num_images = images.shape[0]\n",
        "    assert masks.shape[0] == num_images\n",
        "\n",
        "    ## TODO {\n",
        "    f, axarr = plt.subplots(len(images),4)\n",
        "    for i in range(len(images)):\n",
        "      pet = get_pet_mask(masks[i])\n",
        "      bck = get_pet_background(masks[i])\n",
        "      out = get_pet_outline(masks[i])\n",
        "      #plt.imshow(np.transpose(images[i], (1, 2, 0)))\n",
        "      axarr[i,0].imshow(np.transpose(images[i], (1, 2, 0)))\n",
        "      axarr[i,1].imshow(pet)\n",
        "      axarr[i,2].imshow(bck)\n",
        "      axarr[i,3].imshow(out)\n",
        "    plt.show()\n",
        "    ## }"
      ]
    },
    {
      "cell_type": "code",
      "execution_count": 8,
      "metadata": {
        "id": "bmiYfOZcrypq",
        "colab": {
          "base_uri": "https://localhost:8080/",
          "height": 522
        },
        "outputId": "2843e766-7bbc-4efa-8810-5e8a76e8a469"
      },
      "outputs": [
        {
          "output_type": "stream",
          "name": "stderr",
          "text": [
            "WARNING:matplotlib.image:Clipping input data to the valid range for imshow with RGB data ([0..1] for floats or [0..255] for integers).\n",
            "WARNING:matplotlib.image:Clipping input data to the valid range for imshow with RGB data ([0..1] for floats or [0..255] for integers).\n",
            "WARNING:matplotlib.image:Clipping input data to the valid range for imshow with RGB data ([0..1] for floats or [0..255] for integers).\n",
            "WARNING:matplotlib.image:Clipping input data to the valid range for imshow with RGB data ([0..1] for floats or [0..255] for integers).\n",
            "WARNING:matplotlib.image:Clipping input data to the valid range for imshow with RGB data ([0..1] for floats or [0..255] for integers).\n"
          ]
        },
        {
          "output_type": "display_data",
          "data": {
            "text/plain": [
              "<Figure size 640x480 with 20 Axes>"
            ],
            "image/png": "[encoded data removed]"
          },
          "metadata": {}
        }
      ],
      "source": [
        "visualize_data(images[:5], masks[:5])"
      ]
    },
    {
      "cell_type": "markdown",
      "metadata": {
        "id": "1fuEKRXArypq"
      },
      "source": [
        "# Model"
      ]
    },
    {
      "cell_type": "markdown",
      "metadata": {
        "id": "D91pReOhrypq"
      },
      "source": [
        "## Backbone Selection\n",
        "\n",
        "We are going to use [EfficientNet](https://arxiv.org/abs/1905.11946v5) as the backbone of our model. Below we install a PyTorch implementation and a package for model summarization."
      ]
    },
    {
      "cell_type": "code",
      "execution_count": 9,
      "metadata": {
        "id": "m3K5R_Vjrypq",
        "colab": {
          "base_uri": "https://localhost:8080/"
        },
        "outputId": "50b61fb5-f33c-450f-9850-8ed78efa9c16"
      },
      "outputs": [
        {
          "output_type": "stream",
          "name": "stdout",
          "text": [
            "Looking in indexes: https://pypi.org/simple, https://us-python.pkg.dev/colab-wheels/public/simple/\n",
            "Collecting efficientnet_pytorch\n",
            "  Downloading efficientnet_pytorch-0.7.1.tar.gz (21 kB)\n",
            "  Preparing metadata (setup.py) ... \u001b[?25l\u001b[?25hdone\n",
            "Requirement already satisfied: torch in /usr/local/lib/python3.9/dist-packages (from efficientnet_pytorch) (1.13.1+cu116)\n",
            "Requirement already satisfied: typing-extensions in /usr/local/lib/python3.9/dist-packages (from torch->efficientnet_pytorch) (4.5.0)\n",
            "Building wheels for collected packages: efficientnet_pytorch\n",
            "  Building wheel for efficientnet_pytorch (setup.py) ... \u001b[?25l\u001b[?25hdone\n",
            "  Created wheel for efficientnet_pytorch: filename=efficientnet_pytorch-0.7.1-py3-none-any.whl size=16444 sha256=999d3f0700955353ba728e575fec1f005af1ec9abb9e32edbe30f53a9f57dedf\n",
            "  Stored in directory: /root/.cache/pip/wheels/29/16/24/752e89d88d333af39a288421e64d613b5f652918e39ef1f8e3\n",
            "Successfully built efficientnet_pytorch\n",
            "Installing collected packages: efficientnet_pytorch\n",
            "Successfully installed efficientnet_pytorch-0.7.1\n",
            "Looking in indexes: https://pypi.org/simple, https://us-python.pkg.dev/colab-wheels/public/simple/\n",
            "Collecting torchinfo\n",
            "  Downloading torchinfo-1.7.2-py3-none-any.whl (22 kB)\n",
            "Installing collected packages: torchinfo\n",
            "Successfully installed torchinfo-1.7.2\n"
          ]
        }
      ],
      "source": [
        "!pip install efficientnet_pytorch\n",
        "!pip install torchinfo"
      ]
    },
    {
      "cell_type": "code",
      "execution_count": 72,
      "metadata": {
        "id": "zyLnfHjvrypq",
        "colab": {
          "base_uri": "https://localhost:8080/"
        },
        "outputId": "92f50683-e3aa-48a5-9d88-64c92eb51fe1"
      },
      "outputs": [
        {
          "output_type": "stream",
          "name": "stdout",
          "text": [
            "Loaded pretrained weights for efficientnet-b0\n"
          ]
        }
      ],
      "source": [
        "from efficientnet_pytorch import EfficientNet\n",
        "backbone = EfficientNet.from_pretrained('efficientnet-b0').to(device='cuda')"
      ]
    },
    {
      "cell_type": "code",
      "execution_count": 73,
      "metadata": {
        "id": "EpIts1u1rypr",
        "colab": {
          "base_uri": "https://localhost:8080/"
        },
        "outputId": "a7952e7e-1d5f-4e23-a38f-ff34918cfbe0"
      },
      "outputs": [
        {
          "output_type": "execute_result",
          "data": {
            "text/plain": [
              "====================================================================================================\n",
              "Layer (type:depth-idx)                             Output Shape              Param #\n",
              "====================================================================================================\n",
              "EfficientNet                                       [1, 1000]                 --\n",
              "├─Conv2dStaticSamePadding: 1-1                     [1, 32, 64, 64]           864\n",
              "│    └─ZeroPad2d: 2-1                              [1, 3, 129, 129]          --\n",
              "├─BatchNorm2d: 1-2                                 [1, 32, 64, 64]           64\n",
              "├─MemoryEfficientSwish: 1-3                        [1, 32, 64, 64]           --\n",
              "├─ModuleList: 1-4                                  --                        --\n",
              "│    └─MBConvBlock: 2-2                            [1, 16, 64, 64]           --\n",
              "│    │    └─Conv2dStaticSamePadding: 3-1           [1, 32, 64, 64]           288\n",
              "│    │    └─BatchNorm2d: 3-2                       [1, 32, 64, 64]           64\n",
              "│    │    └─MemoryEfficientSwish: 3-3              [1, 32, 64, 64]           --\n",
              "│    │    └─Conv2dStaticSamePadding: 3-4           [1, 8, 1, 1]              264\n",
              "│    │    └─MemoryEfficientSwish: 3-5              [1, 8, 1, 1]              --\n",
              "│    │    └─Conv2dStaticSamePadding: 3-6           [1, 32, 1, 1]             288\n",
              "│    │    └─Conv2dStaticSamePadding: 3-7           [1, 16, 64, 64]           512\n",
              "│    │    └─BatchNorm2d: 3-8                       [1, 16, 64, 64]           32\n",
              "│    └─MBConvBlock: 2-3                            [1, 24, 32, 32]           --\n",
              "│    │    └─Conv2dStaticSamePadding: 3-9           [1, 96, 64, 64]           1,536\n",
              "│    │    └─BatchNorm2d: 3-10                      [1, 96, 64, 64]           192\n",
              "│    │    └─MemoryEfficientSwish: 3-11             [1, 96, 64, 64]           --\n",
              "│    │    └─Conv2dStaticSamePadding: 3-12          [1, 96, 32, 32]           864\n",
              "│    │    └─BatchNorm2d: 3-13                      [1, 96, 32, 32]           192\n",
              "│    │    └─MemoryEfficientSwish: 3-14             [1, 96, 32, 32]           --\n",
              "│    │    └─Conv2dStaticSamePadding: 3-15          [1, 4, 1, 1]              388\n",
              "│    │    └─MemoryEfficientSwish: 3-16             [1, 4, 1, 1]              --\n",
              "│    │    └─Conv2dStaticSamePadding: 3-17          [1, 96, 1, 1]             480\n",
              "│    │    └─Conv2dStaticSamePadding: 3-18          [1, 24, 32, 32]           2,304\n",
              "│    │    └─BatchNorm2d: 3-19                      [1, 24, 32, 32]           48\n",
              "│    └─MBConvBlock: 2-4                            [1, 24, 32, 32]           --\n",
              "│    │    └─Conv2dStaticSamePadding: 3-20          [1, 144, 32, 32]          3,456\n",
              "│    │    └─BatchNorm2d: 3-21                      [1, 144, 32, 32]          288\n",
              "│    │    └─MemoryEfficientSwish: 3-22             [1, 144, 32, 32]          --\n",
              "│    │    └─Conv2dStaticSamePadding: 3-23          [1, 144, 32, 32]          1,296\n",
              "│    │    └─BatchNorm2d: 3-24                      [1, 144, 32, 32]          288\n",
              "│    │    └─MemoryEfficientSwish: 3-25             [1, 144, 32, 32]          --\n",
              "│    │    └─Conv2dStaticSamePadding: 3-26          [1, 6, 1, 1]              870\n",
              "│    │    └─MemoryEfficientSwish: 3-27             [1, 6, 1, 1]              --\n",
              "│    │    └─Conv2dStaticSamePadding: 3-28          [1, 144, 1, 1]            1,008\n",
              "│    │    └─Conv2dStaticSamePadding: 3-29          [1, 24, 32, 32]           3,456\n",
              "│    │    └─BatchNorm2d: 3-30                      [1, 24, 32, 32]           48\n",
              "│    └─MBConvBlock: 2-5                            [1, 40, 16, 16]           --\n",
              "│    │    └─Conv2dStaticSamePadding: 3-31          [1, 144, 32, 32]          3,456\n",
              "│    │    └─BatchNorm2d: 3-32                      [1, 144, 32, 32]          288\n",
              "│    │    └─MemoryEfficientSwish: 3-33             [1, 144, 32, 32]          --\n",
              "│    │    └─Conv2dStaticSamePadding: 3-34          [1, 144, 16, 16]          3,600\n",
              "│    │    └─BatchNorm2d: 3-35                      [1, 144, 16, 16]          288\n",
              "│    │    └─MemoryEfficientSwish: 3-36             [1, 144, 16, 16]          --\n",
              "│    │    └─Conv2dStaticSamePadding: 3-37          [1, 6, 1, 1]              870\n",
              "│    │    └─MemoryEfficientSwish: 3-38             [1, 6, 1, 1]              --\n",
              "│    │    └─Conv2dStaticSamePadding: 3-39          [1, 144, 1, 1]            1,008\n",
              "│    │    └─Conv2dStaticSamePadding: 3-40          [1, 40, 16, 16]           5,760\n",
              "│    │    └─BatchNorm2d: 3-41                      [1, 40, 16, 16]           80\n",
              "│    └─MBConvBlock: 2-6                            [1, 40, 16, 16]           --\n",
              "│    │    └─Conv2dStaticSamePadding: 3-42          [1, 240, 16, 16]          9,600\n",
              "│    │    └─BatchNorm2d: 3-43                      [1, 240, 16, 16]          480\n",
              "│    │    └─MemoryEfficientSwish: 3-44             [1, 240, 16, 16]          --\n",
              "│    │    └─Conv2dStaticSamePadding: 3-45          [1, 240, 16, 16]          6,000\n",
              "│    │    └─BatchNorm2d: 3-46                      [1, 240, 16, 16]          480\n",
              "│    │    └─MemoryEfficientSwish: 3-47             [1, 240, 16, 16]          --\n",
              "│    │    └─Conv2dStaticSamePadding: 3-48          [1, 10, 1, 1]             2,410\n",
              "│    │    └─MemoryEfficientSwish: 3-49             [1, 10, 1, 1]             --\n",
              "│    │    └─Conv2dStaticSamePadding: 3-50          [1, 240, 1, 1]            2,640\n",
              "│    │    └─Conv2dStaticSamePadding: 3-51          [1, 40, 16, 16]           9,600\n",
              "│    │    └─BatchNorm2d: 3-52                      [1, 40, 16, 16]           80\n",
              "│    └─MBConvBlock: 2-7                            [1, 80, 8, 8]             --\n",
              "│    │    └─Conv2dStaticSamePadding: 3-53          [1, 240, 16, 16]          9,600\n",
              "│    │    └─BatchNorm2d: 3-54                      [1, 240, 16, 16]          480\n",
              "│    │    └─MemoryEfficientSwish: 3-55             [1, 240, 16, 16]          --\n",
              "│    │    └─Conv2dStaticSamePadding: 3-56          [1, 240, 8, 8]            2,160\n",
              "│    │    └─BatchNorm2d: 3-57                      [1, 240, 8, 8]            480\n",
              "│    │    └─MemoryEfficientSwish: 3-58             [1, 240, 8, 8]            --\n",
              "│    │    └─Conv2dStaticSamePadding: 3-59          [1, 10, 1, 1]             2,410\n",
              "│    │    └─MemoryEfficientSwish: 3-60             [1, 10, 1, 1]             --\n",
              "│    │    └─Conv2dStaticSamePadding: 3-61          [1, 240, 1, 1]            2,640\n",
              "│    │    └─Conv2dStaticSamePadding: 3-62          [1, 80, 8, 8]             19,200\n",
              "│    │    └─BatchNorm2d: 3-63                      [1, 80, 8, 8]             160\n",
              "│    └─MBConvBlock: 2-8                            [1, 80, 8, 8]             --\n",
              "│    │    └─Conv2dStaticSamePadding: 3-64          [1, 480, 8, 8]            38,400\n",
              "│    │    └─BatchNorm2d: 3-65                      [1, 480, 8, 8]            960\n",
              "│    │    └─MemoryEfficientSwish: 3-66             [1, 480, 8, 8]            --\n",
              "│    │    └─Conv2dStaticSamePadding: 3-67          [1, 480, 8, 8]            4,320\n",
              "│    │    └─BatchNorm2d: 3-68                      [1, 480, 8, 8]            960\n",
              "│    │    └─MemoryEfficientSwish: 3-69             [1, 480, 8, 8]            --\n",
              "│    │    └─Conv2dStaticSamePadding: 3-70          [1, 20, 1, 1]             9,620\n",
              "│    │    └─MemoryEfficientSwish: 3-71             [1, 20, 1, 1]             --\n",
              "│    │    └─Conv2dStaticSamePadding: 3-72          [1, 480, 1, 1]            10,080\n",
              "│    │    └─Conv2dStaticSamePadding: 3-73          [1, 80, 8, 8]             38,400\n",
              "│    │    └─BatchNorm2d: 3-74                      [1, 80, 8, 8]             160\n",
              "│    └─MBConvBlock: 2-9                            [1, 80, 8, 8]             --\n",
              "│    │    └─Conv2dStaticSamePadding: 3-75          [1, 480, 8, 8]            38,400\n",
              "│    │    └─BatchNorm2d: 3-76                      [1, 480, 8, 8]            960\n",
              "│    │    └─MemoryEfficientSwish: 3-77             [1, 480, 8, 8]            --\n",
              "│    │    └─Conv2dStaticSamePadding: 3-78          [1, 480, 8, 8]            4,320\n",
              "│    │    └─BatchNorm2d: 3-79                      [1, 480, 8, 8]            960\n",
              "│    │    └─MemoryEfficientSwish: 3-80             [1, 480, 8, 8]            --\n",
              "│    │    └─Conv2dStaticSamePadding: 3-81          [1, 20, 1, 1]             9,620\n",
              "│    │    └─MemoryEfficientSwish: 3-82             [1, 20, 1, 1]             --\n",
              "│    │    └─Conv2dStaticSamePadding: 3-83          [1, 480, 1, 1]            10,080\n",
              "│    │    └─Conv2dStaticSamePadding: 3-84          [1, 80, 8, 8]             38,400\n",
              "│    │    └─BatchNorm2d: 3-85                      [1, 80, 8, 8]             160\n",
              "│    └─MBConvBlock: 2-10                           [1, 112, 8, 8]            --\n",
              "│    │    └─Conv2dStaticSamePadding: 3-86          [1, 480, 8, 8]            38,400\n",
              "│    │    └─BatchNorm2d: 3-87                      [1, 480, 8, 8]            960\n",
              "│    │    └─MemoryEfficientSwish: 3-88             [1, 480, 8, 8]            --\n",
              "│    │    └─Conv2dStaticSamePadding: 3-89          [1, 480, 8, 8]            12,000\n",
              "│    │    └─BatchNorm2d: 3-90                      [1, 480, 8, 8]            960\n",
              "│    │    └─MemoryEfficientSwish: 3-91             [1, 480, 8, 8]            --\n",
              "│    │    └─Conv2dStaticSamePadding: 3-92          [1, 20, 1, 1]             9,620\n",
              "│    │    └─MemoryEfficientSwish: 3-93             [1, 20, 1, 1]             --\n",
              "│    │    └─Conv2dStaticSamePadding: 3-94          [1, 480, 1, 1]            10,080\n",
              "│    │    └─Conv2dStaticSamePadding: 3-95          [1, 112, 8, 8]            53,760\n",
              "│    │    └─BatchNorm2d: 3-96                      [1, 112, 8, 8]            224\n",
              "│    └─MBConvBlock: 2-11                           [1, 112, 8, 8]            --\n",
              "│    │    └─Conv2dStaticSamePadding: 3-97          [1, 672, 8, 8]            75,264\n",
              "│    │    └─BatchNorm2d: 3-98                      [1, 672, 8, 8]            1,344\n",
              "│    │    └─MemoryEfficientSwish: 3-99             [1, 672, 8, 8]            --\n",
              "│    │    └─Conv2dStaticSamePadding: 3-100         [1, 672, 8, 8]            16,800\n",
              "│    │    └─BatchNorm2d: 3-101                     [1, 672, 8, 8]            1,344\n",
              "│    │    └─MemoryEfficientSwish: 3-102            [1, 672, 8, 8]            --\n",
              "│    │    └─Conv2dStaticSamePadding: 3-103         [1, 28, 1, 1]             18,844\n",
              "│    │    └─MemoryEfficientSwish: 3-104            [1, 28, 1, 1]             --\n",
              "│    │    └─Conv2dStaticSamePadding: 3-105         [1, 672, 1, 1]            19,488\n",
              "│    │    └─Conv2dStaticSamePadding: 3-106         [1, 112, 8, 8]            75,264\n",
              "│    │    └─BatchNorm2d: 3-107                     [1, 112, 8, 8]            224\n",
              "│    └─MBConvBlock: 2-12                           [1, 112, 8, 8]            --\n",
              "│    │    └─Conv2dStaticSamePadding: 3-108         [1, 672, 8, 8]            75,264\n",
              "│    │    └─BatchNorm2d: 3-109                     [1, 672, 8, 8]            1,344\n",
              "│    │    └─MemoryEfficientSwish: 3-110            [1, 672, 8, 8]            --\n",
              "│    │    └─Conv2dStaticSamePadding: 3-111         [1, 672, 8, 8]            16,800\n",
              "│    │    └─BatchNorm2d: 3-112                     [1, 672, 8, 8]            1,344\n",
              "│    │    └─MemoryEfficientSwish: 3-113            [1, 672, 8, 8]            --\n",
              "│    │    └─Conv2dStaticSamePadding: 3-114         [1, 28, 1, 1]             18,844\n",
              "│    │    └─MemoryEfficientSwish: 3-115            [1, 28, 1, 1]             --\n",
              "│    │    └─Conv2dStaticSamePadding: 3-116         [1, 672, 1, 1]            19,488\n",
              "│    │    └─Conv2dStaticSamePadding: 3-117         [1, 112, 8, 8]            75,264\n",
              "│    │    └─BatchNorm2d: 3-118                     [1, 112, 8, 8]            224\n",
              "│    └─MBConvBlock: 2-13                           [1, 192, 4, 4]            --\n",
              "│    │    └─Conv2dStaticSamePadding: 3-119         [1, 672, 8, 8]            75,264\n",
              "│    │    └─BatchNorm2d: 3-120                     [1, 672, 8, 8]            1,344\n",
              "│    │    └─MemoryEfficientSwish: 3-121            [1, 672, 8, 8]            --\n",
              "│    │    └─Conv2dStaticSamePadding: 3-122         [1, 672, 4, 4]            16,800\n",
              "│    │    └─BatchNorm2d: 3-123                     [1, 672, 4, 4]            1,344\n",
              "│    │    └─MemoryEfficientSwish: 3-124            [1, 672, 4, 4]            --\n",
              "│    │    └─Conv2dStaticSamePadding: 3-125         [1, 28, 1, 1]             18,844\n",
              "│    │    └─MemoryEfficientSwish: 3-126            [1, 28, 1, 1]             --\n",
              "│    │    └─Conv2dStaticSamePadding: 3-127         [1, 672, 1, 1]            19,488\n",
              "│    │    └─Conv2dStaticSamePadding: 3-128         [1, 192, 4, 4]            129,024\n",
              "│    │    └─BatchNorm2d: 3-129                     [1, 192, 4, 4]            384\n",
              "│    └─MBConvBlock: 2-14                           [1, 192, 4, 4]            --\n",
              "│    │    └─Conv2dStaticSamePadding: 3-130         [1, 1152, 4, 4]           221,184\n",
              "│    │    └─BatchNorm2d: 3-131                     [1, 1152, 4, 4]           2,304\n",
              "│    │    └─MemoryEfficientSwish: 3-132            [1, 1152, 4, 4]           --\n",
              "│    │    └─Conv2dStaticSamePadding: 3-133         [1, 1152, 4, 4]           28,800\n",
              "│    │    └─BatchNorm2d: 3-134                     [1, 1152, 4, 4]           2,304\n",
              "│    │    └─MemoryEfficientSwish: 3-135            [1, 1152, 4, 4]           --\n",
              "│    │    └─Conv2dStaticSamePadding: 3-136         [1, 48, 1, 1]             55,344\n",
              "│    │    └─MemoryEfficientSwish: 3-137            [1, 48, 1, 1]             --\n",
              "│    │    └─Conv2dStaticSamePadding: 3-138         [1, 1152, 1, 1]           56,448\n",
              "│    │    └─Conv2dStaticSamePadding: 3-139         [1, 192, 4, 4]            221,184\n",
              "│    │    └─BatchNorm2d: 3-140                     [1, 192, 4, 4]            384\n",
              "│    └─MBConvBlock: 2-15                           [1, 192, 4, 4]            --\n",
              "│    │    └─Conv2dStaticSamePadding: 3-141         [1, 1152, 4, 4]           221,184\n",
              "│    │    └─BatchNorm2d: 3-142                     [1, 1152, 4, 4]           2,304\n",
              "│    │    └─MemoryEfficientSwish: 3-143            [1, 1152, 4, 4]           --\n",
              "│    │    └─Conv2dStaticSamePadding: 3-144         [1, 1152, 4, 4]           28,800\n",
              "│    │    └─BatchNorm2d: 3-145                     [1, 1152, 4, 4]           2,304\n",
              "│    │    └─MemoryEfficientSwish: 3-146            [1, 1152, 4, 4]           --\n",
              "│    │    └─Conv2dStaticSamePadding: 3-147         [1, 48, 1, 1]             55,344\n",
              "│    │    └─MemoryEfficientSwish: 3-148            [1, 48, 1, 1]             --\n",
              "│    │    └─Conv2dStaticSamePadding: 3-149         [1, 1152, 1, 1]           56,448\n",
              "│    │    └─Conv2dStaticSamePadding: 3-150         [1, 192, 4, 4]            221,184\n",
              "│    │    └─BatchNorm2d: 3-151                     [1, 192, 4, 4]            384\n",
              "│    └─MBConvBlock: 2-16                           [1, 192, 4, 4]            --\n",
              "│    │    └─Conv2dStaticSamePadding: 3-152         [1, 1152, 4, 4]           221,184\n",
              "│    │    └─BatchNorm2d: 3-153                     [1, 1152, 4, 4]           2,304\n",
              "│    │    └─MemoryEfficientSwish: 3-154            [1, 1152, 4, 4]           --\n",
              "│    │    └─Conv2dStaticSamePadding: 3-155         [1, 1152, 4, 4]           28,800\n",
              "│    │    └─BatchNorm2d: 3-156                     [1, 1152, 4, 4]           2,304\n",
              "│    │    └─MemoryEfficientSwish: 3-157            [1, 1152, 4, 4]           --\n",
              "│    │    └─Conv2dStaticSamePadding: 3-158         [1, 48, 1, 1]             55,344\n",
              "│    │    └─MemoryEfficientSwish: 3-159            [1, 48, 1, 1]             --\n",
              "│    │    └─Conv2dStaticSamePadding: 3-160         [1, 1152, 1, 1]           56,448\n",
              "│    │    └─Conv2dStaticSamePadding: 3-161         [1, 192, 4, 4]            221,184\n",
              "│    │    └─BatchNorm2d: 3-162                     [1, 192, 4, 4]            384\n",
              "│    └─MBConvBlock: 2-17                           [1, 320, 4, 4]            --\n",
              "│    │    └─Conv2dStaticSamePadding: 3-163         [1, 1152, 4, 4]           221,184\n",
              "│    │    └─BatchNorm2d: 3-164                     [1, 1152, 4, 4]           2,304\n",
              "│    │    └─MemoryEfficientSwish: 3-165            [1, 1152, 4, 4]           --\n",
              "│    │    └─Conv2dStaticSamePadding: 3-166         [1, 1152, 4, 4]           10,368\n",
              "│    │    └─BatchNorm2d: 3-167                     [1, 1152, 4, 4]           2,304\n",
              "│    │    └─MemoryEfficientSwish: 3-168            [1, 1152, 4, 4]           --\n",
              "│    │    └─Conv2dStaticSamePadding: 3-169         [1, 48, 1, 1]             55,344\n",
              "│    │    └─MemoryEfficientSwish: 3-170            [1, 48, 1, 1]             --\n",
              "│    │    └─Conv2dStaticSamePadding: 3-171         [1, 1152, 1, 1]           56,448\n",
              "│    │    └─Conv2dStaticSamePadding: 3-172         [1, 320, 4, 4]            368,640\n",
              "│    │    └─BatchNorm2d: 3-173                     [1, 320, 4, 4]            640\n",
              "├─Conv2dStaticSamePadding: 1-5                     [1, 1280, 4, 4]           409,600\n",
              "│    └─Identity: 2-18                              [1, 320, 4, 4]            --\n",
              "├─BatchNorm2d: 1-6                                 [1, 1280, 4, 4]           2,560\n",
              "├─MemoryEfficientSwish: 1-7                        [1, 1280, 4, 4]           --\n",
              "├─AdaptiveAvgPool2d: 1-8                           [1, 1280, 1, 1]           --\n",
              "├─Dropout: 1-9                                     [1, 1280]                 --\n",
              "├─Linear: 1-10                                     [1, 1000]                 1,281,000\n",
              "====================================================================================================\n",
              "Total params: 5,288,548\n",
              "Trainable params: 5,288,548\n",
              "Non-trainable params: 0\n",
              "Total mult-adds (M): 1.32\n",
              "====================================================================================================\n",
              "Input size (MB): 0.20\n",
              "Forward/backward pass size (MB): 17.61\n",
              "Params size (MB): 5.29\n",
              "Estimated Total Size (MB): 23.10\n",
              "===================================================================================================="
            ]
          },
          "metadata": {},
          "execution_count": 73
        }
      ],
      "source": [
        "import torchinfo\n",
        "torchinfo.summary(backbone, input_size=(1, 3, IMAGE_HEIGHT, IMAGE_WIDTH), device=\"cuda\")"
      ]
    },
    {
      "cell_type": "markdown",
      "metadata": {
        "id": "Guhz6ANWrypr"
      },
      "source": [
        "The backbone has a method that allows easy feature extraction.\n",
        "Below we inspect this method."
      ]
    },
    {
      "cell_type": "code",
      "execution_count": 74,
      "metadata": {
        "id": "88LXd0eirypr",
        "colab": {
          "base_uri": "https://localhost:8080/"
        },
        "outputId": "0f3233b5-4972-411a-bff9-a7d6689d5d59"
      },
      "outputs": [
        {
          "output_type": "stream",
          "name": "stdout",
          "text": [
            "{\n",
            "    \"reduction_1\": [\n",
            "        1,\n",
            "        16,\n",
            "        64,\n",
            "        64\n",
            "    ],\n",
            "    \"reduction_2\": [\n",
            "        1,\n",
            "        24,\n",
            "        32,\n",
            "        32\n",
            "    ],\n",
            "    \"reduction_3\": [\n",
            "        1,\n",
            "        40,\n",
            "        16,\n",
            "        16\n",
            "    ],\n",
            "    \"reduction_4\": [\n",
            "        1,\n",
            "        112,\n",
            "        8,\n",
            "        8\n",
            "    ],\n",
            "    \"reduction_5\": [\n",
            "        1,\n",
            "        320,\n",
            "        4,\n",
            "        4\n",
            "    ],\n",
            "    \"reduction_6\": [\n",
            "        1,\n",
            "        1280,\n",
            "        4,\n",
            "        4\n",
            "    ]\n",
            "}\n",
            "{\n",
            "    \"reduction_1\": 16,\n",
            "    \"reduction_2\": 24,\n",
            "    \"reduction_3\": 40,\n",
            "    \"reduction_4\": 112,\n",
            "    \"reduction_5\": 320,\n",
            "    \"reduction_6\": 1280\n",
            "}\n"
          ]
        }
      ],
      "source": [
        "import json\n",
        "\n",
        "dummy_input = torch.zeros((1, 3, IMAGE_HEIGHT, IMAGE_WIDTH))\n",
        "dummy_input = dummy_input.to(device = 'cuda')\n",
        "features = backbone.extract_endpoints(dummy_input)\n",
        "\n",
        "FEATURE_SHAPES = {\n",
        "    feature_name: feature_data.shape for feature_name, feature_data in features.items()\n",
        "}\n",
        "FEATURE_CHANNELS = dict(\n",
        "    list(\n",
        "        {\n",
        "            feature_name: feature_shape[1]\n",
        "            for feature_name, feature_shape in FEATURE_SHAPES.items()\n",
        "        }.items()\n",
        "    )\n",
        ")\n",
        "\n",
        "\n",
        "print(json.dumps(FEATURE_SHAPES, indent=4))\n",
        "print(json.dumps(FEATURE_CHANNELS, indent=4))"
      ]
    },
    {
      "cell_type": "markdown",
      "metadata": {
        "id": "VZL2rM2wrypr"
      },
      "source": [
        "## Architecture Implementation (5p)"
      ]
    },
    {
      "cell_type": "markdown",
      "metadata": {
        "id": "rUjktqCjrypr"
      },
      "source": [
        "### Backbone Utils (0.5p)\n",
        "Finish the implementation of `BackBoneWrapper` according to docstrings."
      ]
    },
    {
      "cell_type": "code",
      "execution_count": 82,
      "metadata": {
        "id": "CsoFeSa_rypr"
      },
      "outputs": [],
      "source": [
        "class MatchChannels(torch.nn.Module):\n",
        "    \"\"\"\n",
        "    Given the input of shape (BATCH, in_channels, H, W),\n",
        "    converts it to the one of shape (BATCH, out_channels, H, W)\n",
        "    \"\"\"\n",
        "\n",
        "    def __init__(self, in_channels, out_channels):\n",
        "        super().__init__()\n",
        "        self.conv = torch.nn.Conv2d(\n",
        "            in_channels=in_channels, out_channels=out_channels, kernel_size=1, stride=1\n",
        "        ).to(device='cuda')\n",
        "        self.bn = torch.nn.BatchNorm2d(out_channels).to(device='cuda')\n",
        "\n",
        "    def forward(self, x):\n",
        "        assert len(x.shape) == 4\n",
        "        x = self.conv(x)\n",
        "        x = self.bn(x)\n",
        "        return x\n",
        "\n",
        "\n",
        "class BackBoneWrapper(torch.nn.Module):\n",
        "    \"\"\"\n",
        "    Given the input x of shape (BATCH, 3, IMAGE_HEIGHT, IMAGE_WIDTH)\n",
        "    produces the list of features, each having out_channels channels.\n",
        "    Features are taken from the output self.backbone.extract_endpoints(x)\n",
        "    and converted using MatchChannels to have an appropriate number of channels.\n",
        "    Features are ordered from the top to the bottom\n",
        "    (first the ones of high resolution; note that FEATURE_FILTERS maintains this order).\n",
        "    \"\"\"\n",
        "\n",
        "    def __init__(self, out_channels):\n",
        "        super().__init__()\n",
        "        self.backbone = EfficientNet.from_pretrained(\"efficientnet-b0\").to(device = 'cuda')\n",
        "\n",
        "        self.feature_channels = FEATURE_CHANNELS\n",
        "        self.num_feature_levels = len(self.feature_channels.items())\n",
        "\n",
        "        ## TODO{\n",
        "        self.matchchannels = [MatchChannels(self.feature_channels[f\"reduction_{i+1}\"], out_channels) for i in range(self.num_feature_levels)]\n",
        "        ## }\n",
        "\n",
        "    def forward(self, x):\n",
        "        assert len(x.shape) == 4\n",
        "        assert x.shape[1] == 3\n",
        "\n",
        "        feature_level_dict = self.backbone.extract_endpoints(x)\n",
        "\n",
        "        ## TODO{\n",
        "        result = [self.matchchannels[i](feature_level_dict[f\"reduction_{i+1}\"]) for i in range(self.num_feature_levels)]\n",
        "        ## }\n",
        "\n",
        "        assert len(result) == self.num_feature_levels\n",
        "        for i in range(self.num_feature_levels):\n",
        "            assert (\n",
        "                result[i].shape[-2:]\n",
        "                == feature_level_dict[f\"reduction_{i+1}\"].shape[-2:]\n",
        "            )\n",
        "        return result"
      ]
    },
    {
      "cell_type": "markdown",
      "metadata": {
        "id": "UJT1fq1Irypr"
      },
      "source": [
        "### Feature Fusion (1.5p)\n",
        "Finish the implementation of `FeatureFusionBlock` according to docstrings."
      ]
    },
    {
      "cell_type": "code",
      "execution_count": 88,
      "metadata": {
        "id": "ETLE5Z8brypr"
      },
      "outputs": [],
      "source": [
        "class FeatureFusionBlock(torch.nn.Module):\n",
        "    \"\"\"\n",
        "    Used to fuse features from different levels in the feature pyramid.\n",
        "    Given\n",
        "        current_feature (of shape (BATCH, feature_channels, H, W))\n",
        "        previous_feature (of shape (BATCH, feature_channels, H', W'))\n",
        "        and optionally additional_feature (of shape (B, feature_channels, H, W))\n",
        "    fuses them using the following equation\n",
        "        for the case without additional_feature\n",
        "            ACT(BN(CONVS(p1*current_feature + p2*resize(previous_feature))))\n",
        "        for the case with additional_feature\n",
        "            ACT(BN(CONVS(p1*current_feature + p2*resize(previous_feature) + p3*additional_feature)))\n",
        "        where CONVS are convolution(s) used to process features after addition \n",
        "            (choice about the number of them and their properties is up to you)\n",
        "        BN is the batch norm\n",
        "        ACT is an activation function (for example it can be relu)\n",
        "        p1, p2, p3, are scalars calculated using learnable weights (see the EfficientDet paper).\n",
        "\n",
        "    \"\"\"\n",
        "\n",
        "    def __init__(self, feature_channels, use_additional):\n",
        "        \"\"\"\n",
        "        Args:\n",
        "            feature_channels - number of channels that each feature has\n",
        "            use_additional - whether additional_feature will be provided\n",
        "        \"\"\"\n",
        "        super().__init__()\n",
        "        self.use_additional = use_additional\n",
        "        ## TODO {\n",
        "        self.act = torch.nn.ReLU().to(DEVICE)\n",
        "        self.bn = torch.nn.BatchNorm2d(feature_channels).to(DEVICE)\n",
        "        self.conv = torch.nn.Conv2d(feature_channels, feature_channels, 1).to(DEVICE)\n",
        "        self.scalar1 = torch.nn.Parameter(torch.ones(1)).to(DEVICE)\n",
        "        self.scalar2 = torch.nn.Parameter(torch.ones(1)).to(DEVICE)\n",
        "        self.scalar3 = torch.nn.Parameter(torch.ones(1)).to(DEVICE)\n",
        "        ## }\n",
        "\n",
        "    def forward(self, current_feature, previous_feature, additional_feature):\n",
        "        # Below we check that self.use_additional iff additional_feature is not None\n",
        "        assert not self.use_additional or additional_feature is not None\n",
        "        assert self.use_additional or additional_feature is None\n",
        "\n",
        "        assert len(current_feature.shape) == len(previous_feature.shape)\n",
        "        assert current_feature.shape[:2] == previous_feature.shape[:2]\n",
        "        if additional_feature is not None:\n",
        "            assert current_feature.shape == additional_feature.shape\n",
        "\n",
        "        ## TODO {\n",
        "        resize = torchvision.transforms.Resize((current_feature.shape[2], current_feature.shape[3]))\n",
        "        if self.use_additional:\n",
        "          combined = self.act(self.bn(self.conv(self.scalar1 * current_feature + self.scalar2 * resize(previous_feature) + self.scalar3 *  additional_feature)))\n",
        "        else:\n",
        "          combined = self.act(self.bn(self.conv(self.scalar1 * current_feature + self.scalar2 * resize(previous_feature))))\n",
        "        ## }\n",
        "\n",
        "        assert combined.shape == current_feature.shape\n",
        "\n",
        "        return combined"
      ]
    },
    {
      "cell_type": "markdown",
      "metadata": {
        "id": "RbYFNYM_rypr"
      },
      "source": [
        "### BiFPN (1.5p)\n",
        "Finish the implementation of `BiFPN` according to docstrings."
      ]
    },
    {
      "cell_type": "code",
      "execution_count": 89,
      "metadata": {
        "id": "qHHqI51xrypr"
      },
      "outputs": [],
      "source": [
        "class BiFPN(torch.nn.Module):\n",
        "    \"\"\"\n",
        "    Implements BiFPN similar to the one presented in EfficinetDet Paper.\n",
        "    Given num_feature_levels features, each having feature_channels channels\n",
        "    performs up and down feature fusion process using FeatureFusionBlocks.\n",
        "    \"\"\"\n",
        "\n",
        "    def __init__(self, num_feature_levels, feature_channels):\n",
        "        super().__init__()\n",
        "        self.feature_channels = feature_channels\n",
        "        self.num_feature_levels = num_feature_levels\n",
        "        \n",
        "        ## TODO {\n",
        "        self.ffb = [FeatureFusionBlock(self.feature_channels, False) for i in range(self.num_feature_levels)]\n",
        "        self.ffbwa = [FeatureFusionBlock(self.feature_channels, True) for i in range(self.num_feature_levels - 2)]\n",
        "        ## }\n",
        "\n",
        "    def forward(self, features, skip_down=False):\n",
        "        \"\"\"\n",
        "        Args:\n",
        "            features - self.num_feature_levels features \n",
        "                       ordered from the highest to the lowest resolution.\n",
        "            skip_down - if true then skip the second part of the feature fusion\n",
        "                        (from high resolution to low resolution)\n",
        "        Returns:\n",
        "            list of fused features ordered in the same way as the input\n",
        "        \"\"\"\n",
        "        assert len(features) == self.num_feature_levels\n",
        "\n",
        "        ## TODO {\n",
        "        if skip_down:\n",
        "          outs = [features[-1]]\n",
        "          out = features[-1]\n",
        "          for i, j in zip(range(len(features)-1), range(len(features)-2, -1, -1)):\n",
        "            outs.append(self.ffb[i](features[j], out, None))\n",
        "            out = self.ffb[i](features[j], out, None)\n",
        "          \n",
        "          result = []\n",
        "          for i in range(len(features)-1, -1, -1):\n",
        "            result.append(outs[i])\n",
        "        else:  \n",
        "\n",
        "          outs = []\n",
        "          out = features[-1]\n",
        "          for i, j in zip(range(len(features)-1), range(len(features)-2, -1, -1)):\n",
        "            outs.append(self.ffb[i](features[j], out, None))\n",
        "            out = self.ffb[i](features[j], out, None)\n",
        "          \n",
        "          result = [outs[-1]]\n",
        "          out1 = outs[-1]\n",
        "          for i, j in zip(range(len(features)-2), range(len(features)-3, -1, -1)):\n",
        "            result.append(self.ffbwa[i](outs[j], out1, features[i+1]))\n",
        "            out1 = self.ffbwa[i](outs[j], out1, features[i+1])\n",
        "\n",
        "          result.append(self.ffb[-1](features[-1], out1, None))\n",
        "        ## }\n",
        "\n",
        "        assert len(result) == self.num_feature_levels\n",
        "        assert result[0].shape == features[0].shape\n",
        "\n",
        "        return result"
      ]
    },
    {
      "cell_type": "markdown",
      "metadata": {
        "id": "NjIgBtKWryps"
      },
      "source": [
        "### Segmentation Head (0.5p)\n",
        "Finish the implementation of `SegmentationHead` according to docstrings. \n",
        "Segmentation head outputs logits that can be used to classify pixels as either pet, background, or outline."
      ]
    },
    {
      "cell_type": "code",
      "execution_count": 107,
      "metadata": {
        "id": "7Ng5-ggkryps"
      },
      "outputs": [],
      "source": [
        "class SegmentationHead(torch.nn.Module):\n",
        "    \"\"\"\n",
        "    Given an input of shape (B, feature_channels, H, W)\n",
        "    Produces the output of shape (B, num_classes, H', W') (where H', W' = output_shape)\n",
        "    consisting of logits that can be used to classify each pixel.\n",
        "    To do so uses additional convolution(s) that operate on input with inner_channels channels.\n",
        "    \"\"\"\n",
        "\n",
        "    def __init__(\n",
        "        self,\n",
        "        feature_channels,\n",
        "        output_shape=(PREDICTION_HEIGHT, PREDICTION_WIDTH),\n",
        "        inner_channels=64,\n",
        "        num_classes=3,\n",
        "    ):\n",
        "        super().__init__()\n",
        "        self.output_shape = output_shape\n",
        "        self.num_classes = num_classes\n",
        "        ## TODO {\n",
        "        self.inner = inner_channels\n",
        "        self.feature_channels = feature_channels\n",
        "        self.conv1 = torch.nn.Conv2d(self.feature_channels, self.inner, 3, 1, 1)\n",
        "        self.conv2 = torch.nn.Conv2d(self.inner, self.num_classes, 3, 1, 1)\n",
        "        self.act = torch.nn.ReLU()\n",
        "        ## }\n",
        "\n",
        "    def forward(self, x):\n",
        "        ## TODO {\n",
        "        result = self.conv1(x)\n",
        "        result = self.conv2(result)\n",
        "        result = self.act(result)\n",
        "        #print(result.shape[2:], x.shape[2:])\n",
        "        ## }\n",
        "\n",
        "        assert result.shape[0] == x.shape[0]\n",
        "        assert result.shape[1] == self.num_classes\n",
        "        assert result.shape[2:] == self.output_shape\n",
        "        return result"
      ]
    },
    {
      "cell_type": "markdown",
      "metadata": {
        "id": "esJN6ASAryps"
      },
      "source": [
        "### Network (1p)\n",
        "Combine modules implemented above into a model for semantic segmentation according to docstrings. \n",
        "\n",
        "Number of BiFPN modules is up to you.\n"
      ]
    },
    {
      "cell_type": "code",
      "execution_count": 108,
      "metadata": {
        "id": "O9sLRI0Vryps"
      },
      "outputs": [],
      "source": [
        "from itertools import chain\n",
        "\n",
        "class Net(torch.nn.Module):\n",
        "    \"\"\"\n",
        "    Uses BackBoneWrapper with feature_channels as a backbone.\n",
        "    Uses BiFPN.\n",
        "    Returns a tensor of shape (BATCH, 3, H, W) (where H, W = output_shape)\n",
        "    with logits for pet, background, and outline. \n",
        "    \"\"\"\n",
        "\n",
        "    def __init__(\n",
        "        self, feature_channels=128, output_shape=(PREDICTION_HEIGHT, PREDICTION_WIDTH)\n",
        "    ):\n",
        "        super().__init__()\n",
        "        ## TODO {\n",
        "        self.feature_channels = feature_channels\n",
        "        self.bbw = BackBoneWrapper(self.feature_channels)\n",
        "        self.bifpn = BiFPN(6, self.feature_channels)\n",
        "        #self.bifpn1 = BiFPN(6, self.feature_channels)\n",
        "        #self.bifpn2 = BiFPN(6, self.feature_channels)\n",
        "        self.sh = SegmentationHead(self.feature_channels)\n",
        "        ## }\n",
        "\n",
        "    def non_backbone_parameters(self):\n",
        "        \"\"\"\n",
        "        Returns all parameters except the backbone ones\n",
        "        \"\"\"\n",
        "        ## TODO {\n",
        "        parameters = chain(self.bifpn.parameters(), self.sh.parameters())\n",
        "        ## }\n",
        "        return parameters\n",
        "\n",
        "    def forward(self, x):\n",
        "        ## TODO {\n",
        "        segmentation = self.bbw(x)\n",
        "        segmentation = self.bifpn(segmentation)\n",
        "        segmentation = self.bifpn(segmentation)\n",
        "        segmentation = self.bifpn(segmentation, True)\n",
        "        segmentation = self.sh(segmentation[0])\n",
        "        ## }\n",
        "        assert segmentation.shape[0] == x.shape[0]\n",
        "        assert segmentation.shape[1] == 3 # logits for pet, background and outline\n",
        "        return segmentation"
      ]
    },
    {
      "cell_type": "markdown",
      "metadata": {
        "id": "e4tBCBPCryps"
      },
      "source": [
        "# Metrics and training"
      ]
    },
    {
      "cell_type": "markdown",
      "metadata": {
        "id": "bPNL_yMqryps"
      },
      "source": [
        "## IOU and accuracy (1p)\n",
        "\n",
        "Implement IOU and accuracy metrics according to docstrings. Use `numpy` for implementation. Note that B and C below are treated as batch dimensions and in our case C=3. \n",
        "\n",
        "In both metrics, `prediction` and `ground_truth` are arrays that consist of zeros and ones."
      ]
    },
    {
      "cell_type": "code",
      "execution_count": 60,
      "metadata": {
        "id": "vnSWDQPDryps"
      },
      "outputs": [],
      "source": [
        "def iou_metric(prediction, ground_truth):\n",
        "    \"\"\"\n",
        "    Given prediction of shape (B, C, H, W)\n",
        "    and ground_truth of shape (B, C, H, W)\n",
        "    outputs an array of shape (B, C).\n",
        "    such that at the position (b, c) is the\n",
        "    value of the intersection of the prediction and the ground_truth mask \n",
        "    (i.e. number of points where both are 1)\n",
        "    divided by their union (i.e. number of points where at least one is 1) \n",
        "    (assume 0/0 = 0).\n",
        "    \"\"\"\n",
        "\n",
        "    assert len(prediction.shape) == 4\n",
        "    assert prediction.shape == ground_truth.shape\n",
        "    assert np.logical_or(prediction == 1, prediction == 0).all()\n",
        "    assert np.logical_or(ground_truth == 1, ground_truth == 0).all()\n",
        "    ## TODO {\n",
        "    result = np.zeros((len(prediction), len(prediction[0])))\n",
        "    for b in range(len(prediction)):\n",
        "      for c in range(len(prediction[0])):\n",
        "        if np.sum(prediction[b][c] == 1) +  np.sum(ground_truth[b][c] == 1) - np.sum((prediction[b][c] == ground_truth[b][c])  & (prediction[b][c] == 1)) == 0 and np.sum((prediction[b][c] == ground_truth[b][c]) & (prediction[b][c] == 1)) == 0:\n",
        "          result[b,c] = 0\n",
        "        else:\n",
        "          result[b,c] = np.sum((prediction[b][c] == ground_truth[b][c]) & (prediction[b][c] == 1))/(np.sum(prediction[b][c] == 1) +  np.sum(ground_truth[b][c] == 1) - np.sum((prediction[b][c] == ground_truth[b][c])  & (prediction[b][c] == 1)))\n",
        "\n",
        "    ## }\n",
        "    assert result.shape == prediction.shape[:2]\n",
        "    return result"
      ]
    },
    {
      "cell_type": "code",
      "execution_count": 20,
      "metadata": {
        "id": "7Qe69pc-ryps"
      },
      "outputs": [],
      "source": [
        "# Some tests\n",
        "\n",
        "a = np.zeros((1, 1, 64, 64))\n",
        "a[:, :, 32:48, 32:48] = 1\n",
        "b = np.zeros((1, 1, 64, 64))\n",
        "b[:, :, 47:63, 47:63] = 1\n",
        "\n",
        "assert np.isclose(\n",
        "    iou_metric(np.concatenate([a, a], axis=1), np.concatenate([a, b], axis=1)),\n",
        "    np.array([1.0, 1.0 / 511.0])[None, :],\n",
        ").all()\n",
        "\n",
        "c = np.zeros((1, 1, 64, 64))\n",
        "\n",
        "assert np.isclose(\n",
        "    iou_metric(c, c),\n",
        "    np.array([0.0])[:, None],\n",
        ").all()"
      ]
    },
    {
      "cell_type": "code",
      "execution_count": 61,
      "metadata": {
        "id": "Ia-kBhqZryps"
      },
      "outputs": [],
      "source": [
        "def accuracy(prediction, ground_truth):\n",
        "    \"\"\"\n",
        "    Given prediction of shape (B, C, H, W)\n",
        "    and ground_truth of shape (B, C, H, W)\n",
        "    outputs an array of shape (B, C).\n",
        "    such that at the position (b, c) is the\n",
        "    fraction of all pixels correctly classified\n",
        "    \"\"\"\n",
        "\n",
        "    assert len(prediction.shape) == 4\n",
        "    assert prediction.shape == ground_truth.shape\n",
        "    assert np.logical_or(prediction == 1, prediction == 0).all()\n",
        "    assert np.logical_or(ground_truth == 1, ground_truth == 0).all()\n",
        "    ## TODO {\n",
        "    result = np.zeros((len(prediction), len(prediction[0])))\n",
        "    for b in range(len(prediction)):\n",
        "      for c in range(len(prediction[0])):\n",
        "        result[b][c] = np.sum(prediction[b][c] == ground_truth[b][c])/(len(prediction[b][c])*len(prediction[b][c][0]))\n",
        "    ## }\n",
        "    assert result.shape == prediction.shape[:2]\n",
        "    return result"
      ]
    },
    {
      "cell_type": "code",
      "execution_count": 22,
      "metadata": {
        "id": "O9MkDteYryps"
      },
      "outputs": [],
      "source": [
        "assert np.isclose(\n",
        "    accuracy(np.concatenate([a, a], axis=1), np.concatenate([a, b], axis=1)),\n",
        "    np.array([1.0, (4096-510)/4096])[None, :],\n",
        ").all()"
      ]
    },
    {
      "cell_type": "markdown",
      "metadata": {
        "id": "rzUT3zqTryps"
      },
      "source": [
        "## Evaluation\n",
        "The code for evaluation is provided below.\n",
        "\n",
        "Note that as the model returns logits, we take the most probable answer (among pet, background and outline)."
      ]
    },
    {
      "cell_type": "code",
      "execution_count": 62,
      "metadata": {
        "id": "yLmuzdq5ryps"
      },
      "outputs": [],
      "source": [
        "## TODO {\n",
        "DEVICE = 'cuda' #cuda\n",
        "## }"
      ]
    },
    {
      "cell_type": "code",
      "execution_count": 94,
      "metadata": {
        "id": "9U9Gpgs_ryps"
      },
      "outputs": [],
      "source": [
        "def one_hot_encode_prediction(predictions):\n",
        "    \"\"\"\n",
        "    Given predictions of shape (B, H, W)\n",
        "    with number\n",
        "    0 - representing pixels belonging to the pet,\n",
        "    1 - background,\n",
        "    2 - outline\n",
        "    one hot encodes it as\n",
        "    single tensor of shape (B, 3, H, W), such that\n",
        "    element (b, c, h, w) is 1 if the pixel corresponds\n",
        "    to class c and 0 otherwise.\n",
        "    \"\"\"\n",
        "\n",
        "    assert len(predictions.shape) == 3\n",
        "\n",
        "    predictions_oh = torch.nn.functional.one_hot(predictions, num_classes=3)\n",
        "    predictions_oh = predictions_oh.permute(0, 3, 1, 2)  # B, C, H, W\n",
        "\n",
        "    assert len(predictions_oh.shape) == 4\n",
        "    assert predictions_oh.shape[1] == 3\n",
        "\n",
        "    return predictions_oh\n",
        "\n",
        "\n",
        "def eval_fn(model, test_loader):\n",
        "    model.eval()\n",
        "\n",
        "    iou = []\n",
        "    acc = []\n",
        "    total = 0\n",
        "    for data in test_loader:\n",
        "        x, y = data\n",
        "        ground_truth = one_hot_encode_prediction(y).cpu().numpy()\n",
        "        x, y = x.to(DEVICE), y.to(DEVICE)\n",
        "\n",
        "        logits = model(x)\n",
        "        prediction = torch.argmax(logits.detach(), dim=-3, keepdim=False)\n",
        "        prediction = one_hot_encode_prediction(prediction).cpu().numpy()\n",
        "\n",
        "        iou.append(np.sum(iou_metric(prediction, ground_truth), axis=0))\n",
        "        acc.append(np.sum(accuracy(prediction, ground_truth), axis=0))\n",
        "        total += prediction.shape[0]\n",
        "\n",
        "    iou = np.stack(iou, axis=-1).sum(-1) / total\n",
        "    acc = np.stack(acc, axis=-1).sum(-1) / total\n",
        "    assert len(iou.shape) == 1\n",
        "    assert len(acc.shape) == 1\n",
        "    assert iou.shape[0] == 3\n",
        "    assert acc.shape[0] == 3\n",
        "\n",
        "    print(f\"IOU PET: {iou[0]}\")\n",
        "    print(f\"IOU BG: {iou[1]}\")\n",
        "    print(f\"IOU OUT: {iou[2]}\")\n",
        "\n",
        "    print(f\"ACC PET: {acc[0]}\")\n",
        "    print(f\"ACC BG: {acc[1]}\")\n",
        "    print(f\"ACC OUT: {acc[2]}\")"
      ]
    },
    {
      "cell_type": "markdown",
      "metadata": {
        "id": "sC73cXS7rypt"
      },
      "source": [
        "## Training (1p)\n",
        "\n",
        "Complete the training loop.\n",
        "You can use `CrossEntropyLoss` as a loss.   "
      ]
    },
    {
      "cell_type": "code",
      "execution_count": 95,
      "metadata": {
        "id": "yOsNXSw_rypt"
      },
      "outputs": [],
      "source": [
        "def train(\n",
        "    model,\n",
        "    optimizer,\n",
        "    train_loader,\n",
        "    test_loader,\n",
        "    num_epoch,\n",
        "    eval_fn,\n",
        "    weight=torch.tensor([1.0, 1.0, 1.0], device=DEVICE),\n",
        "    augment_fn=(lambda im, gt: (im, gt)),\n",
        "):\n",
        "    \"\"\"\n",
        "    Args:\n",
        "        model - model that given an image outputs a tensor\n",
        "                with logits for determining whether a pixel belongs\n",
        "                to the pet, the background, or the pet outline.\n",
        "        eval_fn - function that given a model performs its evaluation on a given set;\n",
        "                  called at the end of every epoch to report both test and train performance\n",
        "        weight - used as weights for CrossEntropyLoss\n",
        "        augment_fn - optional function that given batched input image, and batched target performs random augmentations,\n",
        "                      used only for train set augmentation\n",
        "\n",
        "    \"\"\"\n",
        "    ## TODO {\n",
        "    weight = weight.to(DEVICE)\n",
        "    criterion = torch.nn.CrossEntropyLoss(weight)\n",
        "    for epoch in range(num_epoch):\n",
        "          running_loss = 0.0\n",
        "          for i, data in enumerate(train_loader, 0):\n",
        "              # get the inputs; data is a list of [inputs, labels]\n",
        "              #data.to(DEVICE)\n",
        "              inputs, labels = data\n",
        "              inputs = inputs.to(DEVICE)\n",
        "              labels = labels.to(DEVICE)\n",
        "              # zero the parameter gradients\n",
        "              optimizer.zero_grad()\n",
        "\n",
        "              # forward + backward + optimize\n",
        "              model = model.to(DEVICE)\n",
        "              outputs = model(inputs)\n",
        "              #print(outputs.size(), labels.size())\n",
        "              loss = criterion(outputs, labels)\n",
        "              loss.backward()\n",
        "              optimizer.step()\n",
        "\n",
        "              # print statistics\n",
        "              running_loss += loss.item()\n",
        "              if i % 200 == 199:    # print every 200 mini-batches\n",
        "                  print(f'[{epoch + 1}, {i + 1:5d}] loss: {running_loss / 2000:.3f}')\n",
        "                  running_loss = 0.0\n",
        "          \n",
        "          eval_fn(model, test_loader)\n",
        "    ## }"
      ]
    },
    {
      "cell_type": "markdown",
      "metadata": {
        "id": "DhWtOP6frypt"
      },
      "source": [
        "Train the model. You should be able to achieve 80% pet IOU, 87% background IOU and 45% outline IOU on the test set after a few epochs (pet IOU >= 75%, background IOU >= 80%, and outline IOU >= 40% are also ok).  \n",
        "Remember to provide appropriate parameters to the optimizer (we do not want to train the backbone) and to turn off gradients for backbone parameters."
      ]
    },
    {
      "cell_type": "code",
      "execution_count": 109,
      "metadata": {
        "id": "5L9fGY-wrypt",
        "colab": {
          "base_uri": "https://localhost:8080/"
        },
        "outputId": "a63f761f-edad-4333-be13-b65bfff77ce7"
      },
      "outputs": [
        {
          "output_type": "stream",
          "name": "stdout",
          "text": [
            "Loaded pretrained weights for efficientnet-b0\n",
            "[1,   200] loss: 0.072\n",
            "IOU PET: 0.4796732647588837\n",
            "IOU BG: 0.6698908882223462\n",
            "IOU OUT: 0.08822489365438412\n",
            "ACC PET: 0.7680284776165167\n",
            "ACC BG: 0.7800709518303693\n",
            "ACC OUT: 0.8804933304161556\n",
            "[2,   200] loss: 0.066\n",
            "IOU PET: 0.4998072136514447\n",
            "IOU BG: 0.6698216330603977\n",
            "IOU OUT: 0.18630020364601482\n",
            "ACC PET: 0.7835917271395476\n",
            "ACC BG: 0.7828242379139412\n",
            "ACC OUT: 0.8851097774427636\n",
            "[3,   200] loss: 0.065\n",
            "IOU PET: 0.49657997416831434\n",
            "IOU BG: 0.6797199144253714\n",
            "IOU OUT: 0.26790269529078486\n",
            "ACC PET: 0.7960924058624625\n",
            "ACC BG: 0.7894935555924639\n",
            "ACC OUT: 0.8786149980197261\n"
          ]
        }
      ],
      "source": [
        "import torch.optim as optim\n",
        "\n",
        "def create_model_and_optimizer():\n",
        "    ## TODO {\n",
        "    model = Net()\n",
        "    optimizer = optim.Adam(model.non_backbone_parameters(), lr=0.001)\n",
        "    ## }\n",
        "    return model, optimizer\n",
        "\n",
        "\n",
        "model, optimizer = create_model_and_optimizer()\n",
        "train(model, optimizer, TRAIN_LOADER, TEST_LOADER, 3, eval_fn)"
      ]
    },
    {
      "cell_type": "code",
      "execution_count": null,
      "metadata": {
        "id": "c5CrwdMMrypt"
      },
      "outputs": [],
      "source": [
        "def save_checkpoint(model, dir):\n",
        "    torch.save(model.state_dict(), dir)\n",
        "\n",
        "def load_checkpoint(model, dir):\n",
        "    model.load_state_dict(torch.load(dir))"
      ]
    },
    {
      "cell_type": "code",
      "execution_count": null,
      "metadata": {
        "id": "DjOAUXp2rypt"
      },
      "outputs": [],
      "source": [
        "save_checkpoint(model, \"pet_segmentator.model\")"
      ]
    },
    {
      "cell_type": "markdown",
      "metadata": {
        "id": "iPAxQ4perypt"
      },
      "source": [
        "Let's inspect what model is producing."
      ]
    },
    {
      "cell_type": "code",
      "execution_count": null,
      "metadata": {
        "id": "KXI0_QDnrypt"
      },
      "outputs": [],
      "source": [
        "samples = next(iter(TEST_LOADER))\n",
        "images, _ = samples\n",
        "\n",
        "images = images[:4]\n",
        "logits = model(images.to(DEVICE))\n",
        "prediction = torch.argmax(logits.detach(), dim=-3, keepdim=False)\n",
        "\n",
        "\n",
        "visualize_data(images.cpu(), prediction.cpu())"
      ]
    },
    {
      "cell_type": "markdown",
      "metadata": {
        "id": "wFBZgG1Lrypt"
      },
      "source": [
        "# Experiments and ablations (2p)"
      ]
    },
    {
      "cell_type": "markdown",
      "metadata": {
        "id": "8K7Zktd9rypt"
      },
      "source": [
        "## No BiFPN (1p)\n",
        "Disable BiFPN and train the model. Compare the performance with the previous one. \n",
        "That is, make BiFPN an identity on features.   \n",
        "Do it without redefining the class `Net`."
      ]
    },
    {
      "cell_type": "code",
      "execution_count": null,
      "metadata": {
        "id": "87bMli4nrypt"
      },
      "outputs": [],
      "source": [
        "## TODO {\n",
        "\n",
        "## }\n",
        "train(model, optimizer, TRAIN_LOADER, TEST_LOADER, 3, eval_fn)"
      ]
    },
    {
      "cell_type": "markdown",
      "metadata": {
        "id": "ZGyJlAOhrypt"
      },
      "source": [
        "## Train Set Augmentations (1p)"
      ]
    },
    {
      "cell_type": "markdown",
      "metadata": {
        "id": "XHpB502krypu"
      },
      "source": [
        "To quickly see how data augmentation can help in learning we will restrict ourselves to first 20 images of `TRAIN_DATASET`."
      ]
    },
    {
      "cell_type": "code",
      "execution_count": null,
      "metadata": {
        "id": "L945FHjKrypu"
      },
      "outputs": [],
      "source": [
        "images, masks = [], []\n",
        "it = iter(TRAIN_DATASET)\n",
        "for i in range(20):\n",
        "    img, mask = next(it)\n",
        "    images.append(img)\n",
        "    masks.append(mask)\n",
        "\n",
        "stacked_images = torch.stack(images).repeat((200, 1, 1, 1))\n",
        "stacked_masks = torch.stack(masks).repeat((200, 1, 1))\n",
        "\n",
        "\n",
        "SMALL_TRAIN_DATASET = torch.utils.data.TensorDataset(stacked_images, stacked_masks)\n",
        "\n",
        "SMALL_TRAIN_LOADER = torch.utils.data.DataLoader(\n",
        "    SMALL_TRAIN_DATASET, shuffle=True, batch_size=BATCH_SIZE\n",
        ")"
      ]
    },
    {
      "cell_type": "markdown",
      "metadata": {
        "id": "j_poDIBDQkUf"
      },
      "source": [
        "Complete the implementation of the augmentation function and train the model from scratch on the augmented dataset (use the `SMALL_TRAIN_LOADER` presented above). Write a short summary of the results. Augmentations are up to you, but they should result in performance improvement."
      ]
    },
    {
      "cell_type": "code",
      "execution_count": null,
      "metadata": {
        "id": "LQFsxv1grypt"
      },
      "outputs": [],
      "source": [
        "def augment_data(images, ground_truth):\n",
        "    \"\"\"\n",
        "    Args:\n",
        "        images of shape (B, 3, H, W)\n",
        "        ground_truth of shape (B, H', W')\n",
        "    Returns augmented images and ground_truth.\n",
        "    Augmentation is random.\n",
        "    \"\"\"\n",
        "\n",
        "    batch_size = images.shape[0]\n",
        "    assert len(images.shape) == 4 # (B, 3, H, W)\n",
        "    assert len(ground_truth.shape) == 3 # (B, H', W')\n",
        "\n",
        "    assert ground_truth.shape[0] == batch_size\n",
        "\n",
        "    ## TODO {\n",
        "\n",
        "     ## }\n",
        "\n",
        "    assert aug_images.shape == images.shape\n",
        "    assert ground_truth.shape == aug_gt.shape\n",
        "    assert torch.logical_or(aug_gt == 0, torch.logical_or(aug_gt == 1, aug_gt == 2)).all()\n",
        "\n",
        "\n",
        "    return aug_images, aug_gt"
      ]
    },
    {
      "cell_type": "code",
      "execution_count": null,
      "metadata": {
        "id": "8__mtC-vrypu"
      },
      "outputs": [],
      "source": [
        "samples = next(iter(SMALL_TRAIN_LOADER))\n",
        "images, masks = samples\n",
        "\n",
        "images = images[:4]\n",
        "masks = masks[:4]\n",
        "\n",
        "\n",
        "visualize_data(images, masks)"
      ]
    },
    {
      "cell_type": "code",
      "execution_count": null,
      "metadata": {
        "id": "-EHFzMIKrypu"
      },
      "outputs": [],
      "source": [
        "aug_imgs, aug_masks = augment_data(images, masks)\n",
        "\n",
        "\n",
        "visualize_data(aug_imgs, aug_masks)"
      ]
    },
    {
      "cell_type": "code",
      "execution_count": null,
      "metadata": {
        "id": "-dAjUOsErypu"
      },
      "outputs": [],
      "source": [
        "model, optimizer = create_model_and_optimizer()\n",
        "train(model, optimizer, SMALL_TRAIN_LOADER, TEST_LOADER, 3, eval_fn)"
      ]
    },
    {
      "cell_type": "code",
      "execution_count": null,
      "metadata": {
        "id": "M7t7MaHOrypu"
      },
      "outputs": [],
      "source": [
        "model, optimizer = create_model_and_optimizer()\n",
        "train(model, optimizer, SMALL_TRAIN_LOADER, TEST_LOADER, 3, eval_fn, augment_fn=augment_data)"
      ]
    },
    {
      "cell_type": "markdown",
      "metadata": {
        "id": "UpLP0BxZQkUg"
      },
      "source": [
        "YOUR REPORT HERE"
      ]
    },
    {
      "cell_type": "markdown",
      "metadata": {
        "id": "8GQ48mIdrypu"
      },
      "source": [
        "# Optional\n",
        "Below you are provided with code for testing you model on images from the web. It may not work in colab!"
      ]
    },
    {
      "cell_type": "code",
      "execution_count": null,
      "metadata": {
        "id": "RGbt_k7iIj52"
      },
      "outputs": [],
      "source": [
        "load_checkpoint(model, \"pet_segmentator.model\")"
      ]
    },
    {
      "cell_type": "code",
      "execution_count": null,
      "metadata": {
        "id": "8qs5gVtPrypu"
      },
      "outputs": [],
      "source": [
        "import io\n",
        "import requests\n",
        "from PIL import Image\n",
        "\n",
        "\n",
        "def download_image(url):\n",
        "    req = requests.get(url, timeout=4.0)\n",
        "    if req.status_code != requests.codes.ok:\n",
        "        raise ConnectionError(\"Could not request image\")\n",
        "\n",
        "    return Image.open(io.BytesIO(req.content))\n",
        "\n",
        "\n",
        "img_list = [\n",
        "    download_image(\n",
        "        \"https://upload.wikimedia.org/wikipedia/commons/thumb/9/95/Young_tabby_cat_keeping_watch.jpg/1920px-Young_tabby_cat_keeping_watch.jpg?20190125193716\"  #By W.carter - Own work, CC0, https://commons.wikimedia.org/w/index.php?curid=76097663\n",
        "    ),\n",
        "    download_image( \n",
        "        \"https://upload.wikimedia.org/wikipedia/commons/thumb/a/a0/Cat_blooper.jpg/1920px-Cat_blooper.jpg?20190116232839\" # By W.carter - Own work, CC0, https://commons.wikimedia.org/w/index.php?curid=75900016\n",
        "    ),\n",
        "]\n",
        "img = []\n",
        "for i in img_list:\n",
        "    img.append(input_transforms(i))\n",
        "\n",
        "\n",
        "img = torch.stack(img, dim=0)\n",
        "logits = model(img.to(DEVICE))\n",
        "\n",
        "prediction = torch.argmax(logits.detach(), dim=-3, keepdim=False)\n",
        "\n",
        "masks = prediction.detach().cpu()\n",
        "\n",
        "\n",
        "\n",
        "visualize_data(img, masks)"
      ]
    }
  ],
  "metadata": {
    "colab": {
      "provenance": []
    },
    "gpuClass": "standard",
    "kernelspec": {
      "display_name": "Python 3",
      "language": "python",
      "name": "python3"
    },
    "language_info": {
      "codemirror_mode": {
        "name": "ipython",
        "version": 3
      },
      "file_extension": ".py",
      "mimetype": "text/x-python",
      "name": "python",
      "nbconvert_exporter": "python",
      "pygments_lexer": "ipython3",
      "version": "3.10.6"
    },
    "orig_nbformat": 4,
    "vscode": {
      "interpreter": {
        "hash": "916dbcbb3f70747c44a77c7bcd40155683ae19c65e1c03b4aa3499c5328201f1"
      }
    },
    "accelerator": "GPU",
    "widgets": {
      "application/vnd.jupyter.widget-state+json": {
        "9316de83f52e409e94c271ca37985c48": {
          "model_module": "@jupyter-widgets/controls",
          "model_name": "HBoxModel",
          "model_module_version": "1.5.0",
          "state": {
            "_dom_classes": [],
            "_model_module": "@jupyter-widgets/controls",
            "_model_module_version": "1.5.0",
            "_model_name": "HBoxModel",
            "_view_count": null,
            "_view_module": "@jupyter-widgets/controls",
            "_view_module_version": "1.5.0",
            "_view_name": "HBoxView",
            "box_style": "",
            "children": [
              "IPY_MODEL_caac2325e85747d087de3d3e9257bc7d",
              "IPY_MODEL_dff8377e28c14a8abc58ffef07fa569d",
              "IPY_MODEL_54b08e4270824a5f83bd2f2e1ee8c3f8"
            ],
            "layout": "IPY_MODEL_5d0e090adce647a7af04ffbaf8b72f35"
          }
        },
        "caac2325e85747d087de3d3e9257bc7d": {
          "model_module": "@jupyter-widgets/controls",
          "model_name": "HTMLModel",
          "model_module_version": "1.5.0",
          "state": {
            "_dom_classes": [],
            "_model_module": "@jupyter-widgets/controls",
            "_model_module_version": "1.5.0",
            "_model_name": "HTMLModel",
            "_view_count": null,
            "_view_module": "@jupyter-widgets/controls",
            "_view_module_version": "1.5.0",
            "_view_name": "HTMLView",
            "description": "",
            "description_tooltip": null,
            "layout": "IPY_MODEL_c7d884a8d32e47878b930d890af7b284",
            "placeholder": "​",
            "style": "IPY_MODEL_6e8996d29f97467d8913297d21765e28",
            "value": "100%"
          }
        },
        "dff8377e28c14a8abc58ffef07fa569d": {
          "model_module": "@jupyter-widgets/controls",
          "model_name": "FloatProgressModel",
          "model_module_version": "1.5.0",
          "state": {
            "_dom_classes": [],
            "_model_module": "@jupyter-widgets/controls",
            "_model_module_version": "1.5.0",
            "_model_name": "FloatProgressModel",
            "_view_count": null,
            "_view_module": "@jupyter-widgets/controls",
            "_view_module_version": "1.5.0",
            "_view_name": "ProgressView",
            "bar_style": "success",
            "description": "",
            "description_tooltip": null,
            "layout": "IPY_MODEL_3a6af9d3ee794349b448fee0f5c6c3a4",
            "max": 791918971,
            "min": 0,
            "orientation": "horizontal",
            "style": "IPY_MODEL_47c9337aef7b41848ad98086121eb447",
            "value": 791918971
          }
        },
        "54b08e4270824a5f83bd2f2e1ee8c3f8": {
          "model_module": "@jupyter-widgets/controls",
          "model_name": "HTMLModel",
          "model_module_version": "1.5.0",
          "state": {
            "_dom_classes": [],
            "_model_module": "@jupyter-widgets/controls",
            "_model_module_version": "1.5.0",
            "_model_name": "HTMLModel",
            "_view_count": null,
            "_view_module": "@jupyter-widgets/controls",
            "_view_module_version": "1.5.0",
            "_view_name": "HTMLView",
            "description": "",
            "description_tooltip": null,
            "layout": "IPY_MODEL_223ade7fe19844f8906611ac0893eeae",
            "placeholder": "​",
            "style": "IPY_MODEL_fee93fa4c6b243d4bbb0393e07154f4e",
            "value": " 791918971/791918971 [00:26&lt;00:00, 30153623.68it/s]"
          }
        },
        "5d0e090adce647a7af04ffbaf8b72f35": {
          "model_module": "@jupyter-widgets/base",
          "model_name": "LayoutModel",
          "model_module_version": "1.2.0",
          "state": {
            "_model_module": "@jupyter-widgets/base",
            "_model_module_version": "1.2.0",
            "_model_name": "LayoutModel",
            "_view_count": null,
            "_view_module": "@jupyter-widgets/base",
            "_view_module_version": "1.2.0",
            "_view_name": "LayoutView",
            "align_content": null,
            "align_items": null,
            "align_self": null,
            "border": null,
            "bottom": null,
            "display": null,
            "flex": null,
            "flex_flow": null,
            "grid_area": null,
            "grid_auto_columns": null,
            "grid_auto_flow": null,
            "grid_auto_rows": null,
            "grid_column": null,
            "grid_gap": null,
            "grid_row": null,
            "grid_template_areas": null,
            "grid_template_columns": null,
            "grid_template_rows": null,
            "height": null,
            "justify_content": null,
            "justify_items": null,
            "left": null,
            "margin": null,
            "max_height": null,
            "max_width": null,
            "min_height": null,
            "min_width": null,
            "object_fit": null,
            "object_position": null,
            "order": null,
            "overflow": null,
            "overflow_x": null,
            "overflow_y": null,
            "padding": null,
            "right": null,
            "top": null,
            "visibility": null,
            "width": null
          }
        },
        "c7d884a8d32e47878b930d890af7b284": {
          "model_module": "@jupyter-widgets/base",
          "model_name": "LayoutModel",
          "model_module_version": "1.2.0",
          "state": {
            "_model_module": "@jupyter-widgets/base",
            "_model_module_version": "1.2.0",
            "_model_name": "LayoutModel",
            "_view_count": null,
            "_view_module": "@jupyter-widgets/base",
            "_view_module_version": "1.2.0",
            "_view_name": "LayoutView",
            "align_content": null,
            "align_items": null,
            "align_self": null,
            "border": null,
            "bottom": null,
            "display": null,
            "flex": null,
            "flex_flow": null,
            "grid_area": null,
            "grid_auto_columns": null,
            "grid_auto_flow": null,
            "grid_auto_rows": null,
            "grid_column": null,
            "grid_gap": null,
            "grid_row": null,
            "grid_template_areas": null,
            "grid_template_columns": null,
            "grid_template_rows": null,
            "height": null,
            "justify_content": null,
            "justify_items": null,
            "left": null,
            "margin": null,
            "max_height": null,
            "max_width": null,
            "min_height": null,
            "min_width": null,
            "object_fit": null,
            "object_position": null,
            "order": null,
            "overflow": null,
            "overflow_x": null,
            "overflow_y": null,
            "padding": null,
            "right": null,
            "top": null,
            "visibility": null,
            "width": null
          }
        },
        "6e8996d29f97467d8913297d21765e28": {
          "model_module": "@jupyter-widgets/controls",
          "model_name": "DescriptionStyleModel",
          "model_module_version": "1.5.0",
          "state": {
            "_model_module": "@jupyter-widgets/controls",
            "_model_module_version": "1.5.0",
            "_model_name": "DescriptionStyleModel",
            "_view_count": null,
            "_view_module": "@jupyter-widgets/base",
            "_view_module_version": "1.2.0",
            "_view_name": "StyleView",
            "description_width": ""
          }
        },
        "3a6af9d3ee794349b448fee0f5c6c3a4": {
          "model_module": "@jupyter-widgets/base",
          "model_name": "LayoutModel",
          "model_module_version": "1.2.0",
          "state": {
            "_model_module": "@jupyter-widgets/base",
            "_model_module_version": "1.2.0",
            "_model_name": "LayoutModel",
            "_view_count": null,
            "_view_module": "@jupyter-widgets/base",
            "_view_module_version": "1.2.0",
            "_view_name": "LayoutView",
            "align_content": null,
            "align_items": null,
            "align_self": null,
            "border": null,
            "bottom": null,
            "display": null,
            "flex": null,
            "flex_flow": null,
            "grid_area": null,
            "grid_auto_columns": null,
            "grid_auto_flow": null,
            "grid_auto_rows": null,
            "grid_column": null,
            "grid_gap": null,
            "grid_row": null,
            "grid_template_areas": null,
            "grid_template_columns": null,
            "grid_template_rows": null,
            "height": null,
            "justify_content": null,
            "justify_items": null,
            "left": null,
            "margin": null,
            "max_height": null,
            "max_width": null,
            "min_height": null,
            "min_width": null,
            "object_fit": null,
            "object_position": null,
            "order": null,
            "overflow": null,
            "overflow_x": null,
            "overflow_y": null,
            "padding": null,
            "right": null,
            "top": null,
            "visibility": null,
            "width": null
          }
        },
        "47c9337aef7b41848ad98086121eb447": {
          "model_module": "@jupyter-widgets/controls",
          "model_name": "ProgressStyleModel",
          "model_module_version": "1.5.0",
          "state": {
            "_model_module": "@jupyter-widgets/controls",
            "_model_module_version": "1.5.0",
            "_model_name": "ProgressStyleModel",
            "_view_count": null,
            "_view_module": "@jupyter-widgets/base",
            "_view_module_version": "1.2.0",
            "_view_name": "StyleView",
            "bar_color": null,
            "description_width": ""
          }
        },
        "223ade7fe19844f8906611ac0893eeae": {
          "model_module": "@jupyter-widgets/base",
          "model_name": "LayoutModel",
          "model_module_version": "1.2.0",
          "state": {
            "_model_module": "@jupyter-widgets/base",
            "_model_module_version": "1.2.0",
            "_model_name": "LayoutModel",
            "_view_count": null,
            "_view_module": "@jupyter-widgets/base",
            "_view_module_version": "1.2.0",
            "_view_name": "LayoutView",
            "align_content": null,
            "align_items": null,
            "align_self": null,
            "border": null,
            "bottom": null,
            "display": null,
            "flex": null,
            "flex_flow": null,
            "grid_area": null,
            "grid_auto_columns": null,
            "grid_auto_flow": null,
            "grid_auto_rows": null,
            "grid_column": null,
            "grid_gap": null,
            "grid_row": null,
            "grid_template_areas": null,
            "grid_template_columns": null,
            "grid_template_rows": null,
            "height": null,
            "justify_content": null,
            "justify_items": null,
            "left": null,
            "margin": null,
            "max_height": null,
            "max_width": null,
            "min_height": null,
            "min_width": null,
            "object_fit": null,
            "object_position": null,
            "order": null,
            "overflow": null,
            "overflow_x": null,
            "overflow_y": null,
            "padding": null,
            "right": null,
            "top": null,
            "visibility": null,
            "width": null
          }
        },
        "fee93fa4c6b243d4bbb0393e07154f4e": {
          "model_module": "@jupyter-widgets/controls",
          "model_name": "DescriptionStyleModel",
          "model_module_version": "1.5.0",
          "state": {
            "_model_module": "@jupyter-widgets/controls",
            "_model_module_version": "1.5.0",
            "_model_name": "DescriptionStyleModel",
            "_view_count": null,
            "_view_module": "@jupyter-widgets/base",
            "_view_module_version": "1.2.0",
            "_view_name": "StyleView",
            "description_width": ""
          }
        },
        "1efec5ea3ccd45ca9081b08ae3c9000e": {
          "model_module": "@jupyter-widgets/controls",
          "model_name": "HBoxModel",
          "model_module_version": "1.5.0",
          "state": {
            "_dom_classes": [],
            "_model_module": "@jupyter-widgets/controls",
            "_model_module_version": "1.5.0",
            "_model_name": "HBoxModel",
            "_view_count": null,
            "_view_module": "@jupyter-widgets/controls",
            "_view_module_version": "1.5.0",
            "_view_name": "HBoxView",
            "box_style": "",
            "children": [
              "IPY_MODEL_cd0313c064bc4f6c9bf76e6a80bb8b3c",
              "IPY_MODEL_b0be6715fe484708b8affce14e63cb64",
              "IPY_MODEL_7b18dafe853d437d81c5560d5d709e37"
            ],
            "layout": "IPY_MODEL_da9a089dd07b490192351f52677d789b"
          }
        },
        "cd0313c064bc4f6c9bf76e6a80bb8b3c": {
          "model_module": "@jupyter-widgets/controls",
          "model_name": "HTMLModel",
          "model_module_version": "1.5.0",
          "state": {
            "_dom_classes": [],
            "_model_module": "@jupyter-widgets/controls",
            "_model_module_version": "1.5.0",
            "_model_name": "HTMLModel",
            "_view_count": null,
            "_view_module": "@jupyter-widgets/controls",
            "_view_module_version": "1.5.0",
            "_view_name": "HTMLView",
            "description": "",
            "description_tooltip": null,
            "layout": "IPY_MODEL_de74539051b649dcb46488686d40e23d",
            "placeholder": "​",
            "style": "IPY_MODEL_d3fbbf496ded4bddb4090095c506c298",
            "value": "100%"
          }
        },
        "b0be6715fe484708b8affce14e63cb64": {
          "model_module": "@jupyter-widgets/controls",
          "model_name": "FloatProgressModel",
          "model_module_version": "1.5.0",
          "state": {
            "_dom_classes": [],
            "_model_module": "@jupyter-widgets/controls",
            "_model_module_version": "1.5.0",
            "_model_name": "FloatProgressModel",
            "_view_count": null,
            "_view_module": "@jupyter-widgets/controls",
            "_view_module_version": "1.5.0",
            "_view_name": "ProgressView",
            "bar_style": "success",
            "description": "",
            "description_tooltip": null,
            "layout": "IPY_MODEL_bd8fdfd82949469e9a0083c63ce36f33",
            "max": 19173078,
            "min": 0,
            "orientation": "horizontal",
            "style": "IPY_MODEL_da582044d2cc4a73b979ec24398cbb97",
            "value": 19173078
          }
        },
        "7b18dafe853d437d81c5560d5d709e37": {
          "model_module": "@jupyter-widgets/controls",
          "model_name": "HTMLModel",
          "model_module_version": "1.5.0",
          "state": {
            "_dom_classes": [],
            "_model_module": "@jupyter-widgets/controls",
            "_model_module_version": "1.5.0",
            "_model_name": "HTMLModel",
            "_view_count": null,
            "_view_module": "@jupyter-widgets/controls",
            "_view_module_version": "1.5.0",
            "_view_name": "HTMLView",
            "description": "",
            "description_tooltip": null,
            "layout": "IPY_MODEL_25ffc3d5d4ab4fca8390e471e616339b",
            "placeholder": "​",
            "style": "IPY_MODEL_cd3b9c87e34d4102898b8345b661be5b",
            "value": " 19173078/19173078 [00:01&lt;00:00, 24772402.55it/s]"
          }
        },
        "da9a089dd07b490192351f52677d789b": {
          "model_module": "@jupyter-widgets/base",
          "model_name": "LayoutModel",
          "model_module_version": "1.2.0",
          "state": {
            "_model_module": "@jupyter-widgets/base",
            "_model_module_version": "1.2.0",
            "_model_name": "LayoutModel",
            "_view_count": null,
            "_view_module": "@jupyter-widgets/base",
            "_view_module_version": "1.2.0",
            "_view_name": "LayoutView",
            "align_content": null,
            "align_items": null,
            "align_self": null,
            "border": null,
            "bottom": null,
            "display": null,
            "flex": null,
            "flex_flow": null,
            "grid_area": null,
            "grid_auto_columns": null,
            "grid_auto_flow": null,
            "grid_auto_rows": null,
            "grid_column": null,
            "grid_gap": null,
            "grid_row": null,
            "grid_template_areas": null,
            "grid_template_columns": null,
            "grid_template_rows": null,
            "height": null,
            "justify_content": null,
            "justify_items": null,
            "left": null,
            "margin": null,
            "max_height": null,
            "max_width": null,
            "min_height": null,
            "min_width": null,
            "object_fit": null,
            "object_position": null,
            "order": null,
            "overflow": null,
            "overflow_x": null,
            "overflow_y": null,
            "padding": null,
            "right": null,
            "top": null,
            "visibility": null,
            "width": null
          }
        },
        "de74539051b649dcb46488686d40e23d": {
          "model_module": "@jupyter-widgets/base",
          "model_name": "LayoutModel",
          "model_module_version": "1.2.0",
          "state": {
            "_model_module": "@jupyter-widgets/base",
            "_model_module_version": "1.2.0",
            "_model_name": "LayoutModel",
            "_view_count": null,
            "_view_module": "@jupyter-widgets/base",
            "_view_module_version": "1.2.0",
            "_view_name": "LayoutView",
            "align_content": null,
            "align_items": null,
            "align_self": null,
            "border": null,
            "bottom": null,
            "display": null,
            "flex": null,
            "flex_flow": null,
            "grid_area": null,
            "grid_auto_columns": null,
            "grid_auto_flow": null,
            "grid_auto_rows": null,
            "grid_column": null,
            "grid_gap": null,
            "grid_row": null,
            "grid_template_areas": null,
            "grid_template_columns": null,
            "grid_template_rows": null,
            "height": null,
            "justify_content": null,
            "justify_items": null,
            "left": null,
            "margin": null,
            "max_height": null,
            "max_width": null,
            "min_height": null,
            "min_width": null,
            "object_fit": null,
            "object_position": null,
            "order": null,
            "overflow": null,
            "overflow_x": null,
            "overflow_y": null,
            "padding": null,
            "right": null,
            "top": null,
            "visibility": null,
            "width": null
          }
        },
        "d3fbbf496ded4bddb4090095c506c298": {
          "model_module": "@jupyter-widgets/controls",
          "model_name": "DescriptionStyleModel",
          "model_module_version": "1.5.0",
          "state": {
            "_model_module": "@jupyter-widgets/controls",
            "_model_module_version": "1.5.0",
            "_model_name": "DescriptionStyleModel",
            "_view_count": null,
            "_view_module": "@jupyter-widgets/base",
            "_view_module_version": "1.2.0",
            "_view_name": "StyleView",
            "description_width": ""
          }
        },
        "bd8fdfd82949469e9a0083c63ce36f33": {
          "model_module": "@jupyter-widgets/base",
          "model_name": "LayoutModel",
          "model_module_version": "1.2.0",
          "state": {
            "_model_module": "@jupyter-widgets/base",
            "_model_module_version": "1.2.0",
            "_model_name": "LayoutModel",
            "_view_count": null,
            "_view_module": "@jupyter-widgets/base",
            "_view_module_version": "1.2.0",
            "_view_name": "LayoutView",
            "align_content": null,
            "align_items": null,
            "align_self": null,
            "border": null,
            "bottom": null,
            "display": null,
            "flex": null,
            "flex_flow": null,
            "grid_area": null,
            "grid_auto_columns": null,
            "grid_auto_flow": null,
            "grid_auto_rows": null,
            "grid_column": null,
            "grid_gap": null,
            "grid_row": null,
            "grid_template_areas": null,
            "grid_template_columns": null,
            "grid_template_rows": null,
            "height": null,
            "justify_content": null,
            "justify_items": null,
            "left": null,
            "margin": null,
            "max_height": null,
            "max_width": null,
            "min_height": null,
            "min_width": null,
            "object_fit": null,
            "object_position": null,
            "order": null,
            "overflow": null,
            "overflow_x": null,
            "overflow_y": null,
            "padding": null,
            "right": null,
            "top": null,
            "visibility": null,
            "width": null
          }
        },
        "da582044d2cc4a73b979ec24398cbb97": {
          "model_module": "@jupyter-widgets/controls",
          "model_name": "ProgressStyleModel",
          "model_module_version": "1.5.0",
          "state": {
            "_model_module": "@jupyter-widgets/controls",
            "_model_module_version": "1.5.0",
            "_model_name": "ProgressStyleModel",
            "_view_count": null,
            "_view_module": "@jupyter-widgets/base",
            "_view_module_version": "1.2.0",
            "_view_name": "StyleView",
            "bar_color": null,
            "description_width": ""
          }
        },
        "25ffc3d5d4ab4fca8390e471e616339b": {
          "model_module": "@jupyter-widgets/base",
          "model_name": "LayoutModel",
          "model_module_version": "1.2.0",
          "state": {
            "_model_module": "@jupyter-widgets/base",
            "_model_module_version": "1.2.0",
            "_model_name": "LayoutModel",
            "_view_count": null,
            "_view_module": "@jupyter-widgets/base",
            "_view_module_version": "1.2.0",
            "_view_name": "LayoutView",
            "align_content": null,
            "align_items": null,
            "align_self": null,
            "border": null,
            "bottom": null,
            "display": null,
            "flex": null,
            "flex_flow": null,
            "grid_area": null,
            "grid_auto_columns": null,
            "grid_auto_flow": null,
            "grid_auto_rows": null,
            "grid_column": null,
            "grid_gap": null,
            "grid_row": null,
            "grid_template_areas": null,
            "grid_template_columns": null,
            "grid_template_rows": null,
            "height": null,
            "justify_content": null,
            "justify_items": null,
            "left": null,
            "margin": null,
            "max_height": null,
            "max_width": null,
            "min_height": null,
            "min_width": null,
            "object_fit": null,
            "object_position": null,
            "order": null,
            "overflow": null,
            "overflow_x": null,
            "overflow_y": null,
            "padding": null,
            "right": null,
            "top": null,
            "visibility": null,
            "width": null
          }
        },
        "cd3b9c87e34d4102898b8345b661be5b": {
          "model_module": "@jupyter-widgets/controls",
          "model_name": "DescriptionStyleModel",
          "model_module_version": "1.5.0",
          "state": {
            "_model_module": "@jupyter-widgets/controls",
            "_model_module_version": "1.5.0",
            "_model_name": "DescriptionStyleModel",
            "_view_count": null,
            "_view_module": "@jupyter-widgets/base",
            "_view_module_version": "1.2.0",
            "_view_name": "StyleView",
            "description_width": ""
          }
        }
      }
    }
  },
  "nbformat": 4,
  "nbformat_minor": 0
}